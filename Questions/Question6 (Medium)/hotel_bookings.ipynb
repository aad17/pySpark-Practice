{
 "cells": [
  {
   "cell_type": "code",
   "execution_count": 1,
   "id": "649b5bc8",
   "metadata": {},
   "outputs": [],
   "source": [
    "import pyspark\n",
    "from pyspark.sql import functions as F\n",
    "from pyspark.sql import SparkSession\n",
    "from pyspark.sql import Window"
   ]
  },
  {
   "cell_type": "code",
   "execution_count": 2,
   "id": "f6aff7f4",
   "metadata": {},
   "outputs": [
    {
     "name": "stdout",
     "output_type": "stream",
     "text": [
      "3.5.5\n"
     ]
    }
   ],
   "source": [
    "print(pyspark.__version__)"
   ]
  },
  {
   "cell_type": "code",
   "execution_count": 3,
   "id": "f278109c",
   "metadata": {},
   "outputs": [
    {
     "name": "stderr",
     "output_type": "stream",
     "text": [
      "Setting default log level to \"WARN\".\n",
      "To adjust logging level use sc.setLogLevel(newLevel). For SparkR, use setLogLevel(newLevel).\n",
      "25/05/19 18:14:55 WARN NativeCodeLoader: Unable to load native-hadoop library for your platform... using builtin-java classes where applicable\n"
     ]
    }
   ],
   "source": [
    "spark = SparkSession.builder \\\n",
    "    .appName(\"hotel_bookings\") \\\n",
    "    .master(\"local[*]\") \\\n",
    "    .getOrCreate()"
   ]
  },
  {
   "cell_type": "code",
   "execution_count": 4,
   "id": "95ff8f7b",
   "metadata": {},
   "outputs": [],
   "source": [
    "hotels_df = spark.read.csv(\"hotels.csv\", header=True, inferSchema=True)\n",
    "guests_df = spark.read.csv(\"guests.csv\", header=True, inferSchema=True)\n",
    "bookings_df = spark.read.csv(\"bookings.csv\", header=True, inferSchema=True)"
   ]
  },
  {
   "cell_type": "code",
   "execution_count": 5,
   "id": "8e6d557e",
   "metadata": {},
   "outputs": [],
   "source": [
    "hotels_df.createOrReplaceTempView(\"hotels\")\n",
    "guests_df.createOrReplaceTempView(\"guests\")\n",
    "bookings_df.createOrReplaceTempView(\"bookings\")"
   ]
  },
  {
   "cell_type": "code",
   "execution_count": 6,
   "id": "368ac9ed",
   "metadata": {},
   "outputs": [
    {
     "name": "stdout",
     "output_type": "stream",
     "text": [
      "root\n",
      " |-- hotel_id: integer (nullable = true)\n",
      " |-- hotel_name: string (nullable = true)\n",
      " |-- city: string (nullable = true)\n",
      " |-- star_rating: integer (nullable = true)\n",
      "\n"
     ]
    }
   ],
   "source": [
    "hotels_df.printSchema()"
   ]
  },
  {
   "cell_type": "code",
   "execution_count": 7,
   "id": "96a05ea1",
   "metadata": {},
   "outputs": [
    {
     "name": "stdout",
     "output_type": "stream",
     "text": [
      "root\n",
      " |-- guest_id: integer (nullable = true)\n",
      " |-- guest_name: string (nullable = true)\n",
      " |-- email: string (nullable = true)\n",
      " |-- country: string (nullable = true)\n",
      "\n"
     ]
    }
   ],
   "source": [
    "guests_df.printSchema()"
   ]
  },
  {
   "cell_type": "code",
   "execution_count": 8,
   "id": "28bda310",
   "metadata": {},
   "outputs": [
    {
     "name": "stdout",
     "output_type": "stream",
     "text": [
      "root\n",
      " |-- booking_id: integer (nullable = true)\n",
      " |-- guest_id: integer (nullable = true)\n",
      " |-- hotel_id: integer (nullable = true)\n",
      " |-- check_in_date: date (nullable = true)\n",
      " |-- check_out_date: date (nullable = true)\n",
      " |-- num_nights: integer (nullable = true)\n",
      " |-- room_rate: integer (nullable = true)\n",
      "\n"
     ]
    }
   ],
   "source": [
    "bookings_df.printSchema()"
   ]
  },
  {
   "cell_type": "markdown",
   "id": "3c0bde91",
   "metadata": {},
   "source": [
    "### Display the total number of bookings per hotel."
   ]
  },
  {
   "cell_type": "code",
   "execution_count": 9,
   "id": "c80d4e8b",
   "metadata": {},
   "outputs": [
    {
     "name": "stdout",
     "output_type": "stream",
     "text": [
      "+--------+--------------------+-------------+\n",
      "|hotel_id|          hotel_name|booking_count|\n",
      "+--------+--------------------+-------------+\n",
      "|       4|         Huffman Inc|           14|\n",
      "|       8|Davis, Crane and ...|           13|\n",
      "|       5|Salazar, Porter a...|           13|\n",
      "|       6|      Clark and Sons|           11|\n",
      "|       7|          Chavez PLC|            9|\n",
      "|      10|           Lopez Ltd|            8|\n",
      "|       3|        Roach-Jarvis|            6|\n",
      "|       2|         Smith Group|            6|\n",
      "|       9|        Knight Group|            5|\n",
      "|       1|        Lin-Williams|            5|\n",
      "+--------+--------------------+-------------+\n",
      "\n"
     ]
    }
   ],
   "source": [
    "spark.sql(\n",
    "    \"\"\"\n",
    "    SELECT\n",
    "        b.hotel_id,\n",
    "        h.hotel_name,\n",
    "        COUNT(DISTINCT b.booking_id) AS booking_count\n",
    "    FROM bookings b\n",
    "    LEFT JOIN hotels h\n",
    "    USING (hotel_id)\n",
    "    GROUP BY 1, 2 \n",
    "    ORDER BY 3 DESC\n",
    "    \"\"\"\n",
    ").show()"
   ]
  },
  {
   "cell_type": "code",
   "execution_count": 10,
   "id": "0211c9d4",
   "metadata": {},
   "outputs": [
    {
     "name": "stdout",
     "output_type": "stream",
     "text": [
      "+--------+--------------------+-------------+\n",
      "|hotel_id|          hotel_name|booking_count|\n",
      "+--------+--------------------+-------------+\n",
      "|       4|         Huffman Inc|           14|\n",
      "|       8|Davis, Crane and ...|           13|\n",
      "|       5|Salazar, Porter a...|           13|\n",
      "|       6|      Clark and Sons|           11|\n",
      "|       7|          Chavez PLC|            9|\n",
      "|      10|           Lopez Ltd|            8|\n",
      "|       3|        Roach-Jarvis|            6|\n",
      "|       2|         Smith Group|            6|\n",
      "|       9|        Knight Group|            5|\n",
      "|       1|        Lin-Williams|            5|\n",
      "+--------+--------------------+-------------+\n",
      "\n"
     ]
    }
   ],
   "source": [
    "joined = bookings_df.join(\n",
    "    hotels_df,\n",
    "    on=\"hotel_id\",\n",
    "    how=\"left\"\n",
    ")\n",
    "\n",
    "joined.groupBy(\"hotel_id\", \"hotel_name\") \\\n",
    "    .agg(F.countDistinct(F.col(\"booking_id\")).alias(\"booking_count\")) \\\n",
    "    .orderBy(F.col(\"booking_count\").desc()) \\\n",
    "    .show()"
   ]
  },
  {
   "cell_type": "markdown",
   "id": "190fd3eb",
   "metadata": {},
   "source": [
    "### Find the average room rate charged by each hotel."
   ]
  },
  {
   "cell_type": "code",
   "execution_count": 11,
   "id": "1cf161a6",
   "metadata": {},
   "outputs": [
    {
     "name": "stdout",
     "output_type": "stream",
     "text": [
      "+--------+--------------------+--------+\n",
      "|hotel_id|          hotel_name|avg_rate|\n",
      "+--------+--------------------+--------+\n",
      "|       1|        Lin-Williams|   220.0|\n",
      "|       9|        Knight Group|   190.0|\n",
      "|       5|Salazar, Porter a...|  184.62|\n",
      "|       3|        Roach-Jarvis|  183.33|\n",
      "|       6|      Clark and Sons|  181.82|\n",
      "|       7|          Chavez PLC|  161.11|\n",
      "|       4|         Huffman Inc|  157.14|\n",
      "|      10|           Lopez Ltd|  156.25|\n",
      "|       8|Davis, Crane and ...|  142.31|\n",
      "|       2|         Smith Group|  133.33|\n",
      "+--------+--------------------+--------+\n",
      "\n"
     ]
    }
   ],
   "source": [
    "spark.sql(\n",
    "    \"\"\"\n",
    "    SELECT\n",
    "        b.hotel_id,\n",
    "        h.hotel_name,\n",
    "        ROUND(AVG(b.room_rate), 2) AS avg_rate\n",
    "    FROM bookings b\n",
    "    LEFT JOIN hotels h\n",
    "    USING (hotel_id)\n",
    "    GROUP BY 1, 2\n",
    "    ORDER BY 3 DESC\n",
    "    \"\"\"\n",
    ").show()"
   ]
  },
  {
   "cell_type": "code",
   "execution_count": 12,
   "id": "6da420e1",
   "metadata": {},
   "outputs": [
    {
     "name": "stdout",
     "output_type": "stream",
     "text": [
      "+--------+--------------------+--------+\n",
      "|hotel_id|          hotel_name|avg_rate|\n",
      "+--------+--------------------+--------+\n",
      "|       1|        Lin-Williams|   220.0|\n",
      "|       9|        Knight Group|   190.0|\n",
      "|       5|Salazar, Porter a...|  184.62|\n",
      "|       3|        Roach-Jarvis|  183.33|\n",
      "|       6|      Clark and Sons|  181.82|\n",
      "|       7|          Chavez PLC|  161.11|\n",
      "|       4|         Huffman Inc|  157.14|\n",
      "|      10|           Lopez Ltd|  156.25|\n",
      "|       8|Davis, Crane and ...|  142.31|\n",
      "|       2|         Smith Group|  133.33|\n",
      "+--------+--------------------+--------+\n",
      "\n"
     ]
    }
   ],
   "source": [
    "joined_df = bookings_df.join(\n",
    "    hotels_df,\n",
    "    on=\"hotel_id\",\n",
    "    how=\"left\"\n",
    ")\n",
    "\n",
    "joined_df.groupBy(\"hotel_id\", \"hotel_name\") \\\n",
    "    .agg(F.round(F.avg(F.col(\"room_rate\")), 2).alias(\"avg_rate\")) \\\n",
    "    .orderBy(F.col(\"avg_rate\").desc()) \\\n",
    "    .show()"
   ]
  },
  {
   "cell_type": "markdown",
   "id": "0598a866",
   "metadata": {},
   "source": [
    "### List all guests who have stayed more than once."
   ]
  },
  {
   "cell_type": "code",
   "execution_count": 13,
   "id": "47286a57",
   "metadata": {},
   "outputs": [
    {
     "name": "stdout",
     "output_type": "stream",
     "text": [
      "+--------+------------------+-------------+\n",
      "|guest_id|        guest_name|booking_count|\n",
      "+--------+------------------+-------------+\n",
      "|      32|       Dylan Brady|            2|\n",
      "|       8|   Jennifer Grimes|            2|\n",
      "|      22|      Mary Jimenez|            2|\n",
      "|      12| Christopher Smith|            2|\n",
      "|      14|      Dennis Allen|            2|\n",
      "|      29|Derrick Ramirez MD|            2|\n",
      "|       1|     Sandra Turner|            2|\n",
      "|      39|        Jesse Hill|            3|\n",
      "|      13|Christopher Murphy|            3|\n",
      "|      28|      Donna Osborn|            3|\n",
      "|      26|     Jessica Perry|            3|\n",
      "|       9|     Brett Shields|            3|\n",
      "|       7|      Diane Howard|            3|\n",
      "|      37|   David Hernandez|            3|\n",
      "|       4|  Ashley Carpenter|            3|\n",
      "|      31|      Scott Rhodes|            3|\n",
      "|       5| Lindsay Blake DDS|            3|\n",
      "|      23|    Mary Alexander|            3|\n",
      "|      18|       Sandra Wall|            4|\n",
      "|      30|   Adam Pennington|            4|\n",
      "+--------+------------------+-------------+\n",
      "only showing top 20 rows\n",
      "\n"
     ]
    }
   ],
   "source": [
    "spark.sql(\n",
    "    \"\"\"\n",
    "    SELECT\n",
    "        b.guest_id,\n",
    "        g.guest_name,\n",
    "        COUNT(b.guest_id) AS booking_count\n",
    "    FROM bookings b\n",
    "    LEFT JOIN guests g\n",
    "    USING (guest_id)\n",
    "    GROUP BY 1, 2\n",
    "    HAVING COUNT(b.guest_id) > 1\n",
    "    ORDER BY 3\n",
    "    \"\"\"\n",
    ").show()"
   ]
  },
  {
   "cell_type": "code",
   "execution_count": 14,
   "id": "0b04bee3",
   "metadata": {},
   "outputs": [
    {
     "name": "stdout",
     "output_type": "stream",
     "text": [
      "+--------+------------------+-------------+\n",
      "|guest_id|        guest_name|booking_count|\n",
      "+--------+------------------+-------------+\n",
      "|      32|       Dylan Brady|            2|\n",
      "|       8|   Jennifer Grimes|            2|\n",
      "|      22|      Mary Jimenez|            2|\n",
      "|      12| Christopher Smith|            2|\n",
      "|      14|      Dennis Allen|            2|\n",
      "|      29|Derrick Ramirez MD|            2|\n",
      "|       1|     Sandra Turner|            2|\n",
      "|      39|        Jesse Hill|            3|\n",
      "|      13|Christopher Murphy|            3|\n",
      "|      28|      Donna Osborn|            3|\n",
      "|      26|     Jessica Perry|            3|\n",
      "|       9|     Brett Shields|            3|\n",
      "|       7|      Diane Howard|            3|\n",
      "|      37|   David Hernandez|            3|\n",
      "|       4|  Ashley Carpenter|            3|\n",
      "|      31|      Scott Rhodes|            3|\n",
      "|       5| Lindsay Blake DDS|            3|\n",
      "|      23|    Mary Alexander|            3|\n",
      "|      18|       Sandra Wall|            4|\n",
      "|      30|   Adam Pennington|            4|\n",
      "+--------+------------------+-------------+\n",
      "only showing top 20 rows\n",
      "\n"
     ]
    }
   ],
   "source": [
    "joined_df = bookings_df.join(\n",
    "    guests_df,\n",
    "    on=\"guest_id\",\n",
    "    how=\"left\"\n",
    ")\n",
    "\n",
    "joined_df.groupBy(\"guest_id\", \"guest_name\") \\\n",
    "    .agg(F.count(F.col(\"guest_id\")).alias(\"booking_count\")) \\\n",
    "    .filter(F.col(\"booking_count\") > 1) \\\n",
    "    .orderBy(F.col(\"booking_count\")) \\\n",
    "    .show()"
   ]
  },
  {
   "cell_type": "markdown",
   "id": "984f209d",
   "metadata": {},
   "source": [
    "### Which hotel had the longest average stay duration?"
   ]
  },
  {
   "cell_type": "code",
   "execution_count": 15,
   "id": "ec22d2af",
   "metadata": {},
   "outputs": [
    {
     "name": "stdout",
     "output_type": "stream",
     "text": [
      "+--------+--------------------+--------+\n",
      "|hotel_id|          hotel_name|avg_stay|\n",
      "+--------+--------------------+--------+\n",
      "|       3|        Roach-Jarvis|    7.33|\n",
      "|      10|           Lopez Ltd|     7.0|\n",
      "|       1|        Lin-Williams|     7.0|\n",
      "|       7|          Chavez PLC|    6.44|\n",
      "|       9|        Knight Group|     6.4|\n",
      "|       5|Salazar, Porter a...|     6.0|\n",
      "|       8|Davis, Crane and ...|    5.85|\n",
      "|       4|         Huffman Inc|    4.71|\n",
      "|       6|      Clark and Sons|    4.55|\n",
      "|       2|         Smith Group|    4.17|\n",
      "+--------+--------------------+--------+\n",
      "\n"
     ]
    }
   ],
   "source": [
    "spark.sql(\n",
    "    \"\"\"\n",
    "    SELECT\n",
    "        b.hotel_id,\n",
    "        h.hotel_name,\n",
    "        ROUND(AVG(DATEDIFF(b.check_out_date, b.check_in_date)), 2) AS avg_stay\n",
    "    FROM bookings b\n",
    "    LEFT JOIN hotels h\n",
    "    USING (hotel_id)\n",
    "    GROUP BY 1, 2\n",
    "    ORDER BY 3 DESC\n",
    "    \"\"\"\n",
    ").show()"
   ]
  },
  {
   "cell_type": "code",
   "execution_count": 16,
   "id": "d583a2d3",
   "metadata": {},
   "outputs": [
    {
     "name": "stdout",
     "output_type": "stream",
     "text": [
      "+--------+--------------------+--------+\n",
      "|hotel_id|          hotel_name|avg_stay|\n",
      "+--------+--------------------+--------+\n",
      "|       3|        Roach-Jarvis|    7.33|\n",
      "|      10|           Lopez Ltd|     7.0|\n",
      "|       1|        Lin-Williams|     7.0|\n",
      "|       7|          Chavez PLC|    6.44|\n",
      "|       9|        Knight Group|     6.4|\n",
      "|       5|Salazar, Porter a...|     6.0|\n",
      "|       8|Davis, Crane and ...|    5.85|\n",
      "|       4|         Huffman Inc|    4.71|\n",
      "|       6|      Clark and Sons|    4.55|\n",
      "|       2|         Smith Group|    4.17|\n",
      "+--------+--------------------+--------+\n",
      "\n"
     ]
    }
   ],
   "source": [
    "joined_df = bookings_df.join(\n",
    "    hotels_df,\n",
    "    on=\"hotel_id\",\n",
    "    how=\"left\"\n",
    ")\n",
    "\n",
    "joined_df.groupBy(\"hotel_id\", \"hotel_name\") \\\n",
    "    .agg(F.round(F.avg(F.date_diff(F.col(\"check_out_date\"), F.col(\"check_in_date\"))), 2).alias(\"avg_stay\")) \\\n",
    "    .orderBy(F.col(\"avg_stay\").desc()) \\\n",
    "    .show()"
   ]
  },
  {
   "cell_type": "markdown",
   "id": "9ab7831e",
   "metadata": {},
   "source": [
    "### List the total revenue generated by each hotel."
   ]
  },
  {
   "cell_type": "code",
   "execution_count": 17,
   "id": "be9337d3",
   "metadata": {},
   "outputs": [
    {
     "name": "stdout",
     "output_type": "stream",
     "text": [
      "+--------+--------------------+-------------+\n",
      "|hotel_id|          hotel_name|total_revenue|\n",
      "+--------+--------------------+-------------+\n",
      "|       5|Salazar, Porter a...|        14800|\n",
      "|       8|Davis, Crane and ...|        10300|\n",
      "|       4|         Huffman Inc|         9750|\n",
      "|       6|      Clark and Sons|         8950|\n",
      "|       7|          Chavez PLC|         8800|\n",
      "|       3|        Roach-Jarvis|         8350|\n",
      "|      10|           Lopez Ltd|         7950|\n",
      "|       1|        Lin-Williams|         7650|\n",
      "|       9|        Knight Group|         5050|\n",
      "|       2|         Smith Group|         3250|\n",
      "+--------+--------------------+-------------+\n",
      "\n"
     ]
    }
   ],
   "source": [
    "spark.sql(\n",
    "    \"\"\"\n",
    "    SELECT\n",
    "        b.hotel_id,\n",
    "        h.hotel_name,\n",
    "        SUM(b.room_rate * b.num_nights) AS total_revenue\n",
    "    FROM bookings b\n",
    "    LEFT JOIN hotels h\n",
    "    USING (hotel_id)\n",
    "    GROUP BY 1, 2\n",
    "    ORDER BY 3 DESC\n",
    "    \"\"\"\n",
    ").show()"
   ]
  },
  {
   "cell_type": "code",
   "execution_count": 18,
   "id": "c4d00d77",
   "metadata": {},
   "outputs": [
    {
     "name": "stdout",
     "output_type": "stream",
     "text": [
      "+--------+--------------------+-------------+\n",
      "|hotel_id|          hotel_name|total_revenue|\n",
      "+--------+--------------------+-------------+\n",
      "|       5|Salazar, Porter a...|        14800|\n",
      "|       8|Davis, Crane and ...|        10300|\n",
      "|       4|         Huffman Inc|         9750|\n",
      "|       6|      Clark and Sons|         8950|\n",
      "|       7|          Chavez PLC|         8800|\n",
      "|       3|        Roach-Jarvis|         8350|\n",
      "|      10|           Lopez Ltd|         7950|\n",
      "|       1|        Lin-Williams|         7650|\n",
      "|       9|        Knight Group|         5050|\n",
      "|       2|         Smith Group|         3250|\n",
      "+--------+--------------------+-------------+\n",
      "\n"
     ]
    }
   ],
   "source": [
    "bookings_hotels_joined_df = bookings_df.join(\n",
    "    hotels_df,\n",
    "    on=\"hotel_id\",\n",
    "    how=\"left\"\n",
    ")\n",
    "\n",
    "bookings_hotels_joined_df.groupBy(\"hotel_id\", \"hotel_name\") \\\n",
    "    .agg(F.sum(F.col(\"num_nights\") * F.col(\"room_rate\")).alias(\"total_revenue\")) \\\n",
    "    .orderBy(F.col(\"total_revenue\").desc()) \\\n",
    "    .show()"
   ]
  },
  {
   "cell_type": "markdown",
   "id": "ec254741",
   "metadata": {},
   "source": [
    "### List guests who booked rooms in 5-star hotels only."
   ]
  },
  {
   "cell_type": "code",
   "execution_count": 19,
   "id": "4a0054ec",
   "metadata": {},
   "outputs": [
    {
     "name": "stdout",
     "output_type": "stream",
     "text": [
      "root\n",
      " |-- guest_id: integer (nullable = true)\n",
      " |-- guest_name: string (nullable = true)\n",
      " |-- email: string (nullable = true)\n",
      " |-- country: string (nullable = true)\n",
      "\n"
     ]
    }
   ],
   "source": [
    "guests_df.printSchema()"
   ]
  },
  {
   "cell_type": "code",
   "execution_count": 20,
   "id": "acd407f8",
   "metadata": {},
   "outputs": [
    {
     "name": "stdout",
     "output_type": "stream",
     "text": [
      "root\n",
      " |-- booking_id: integer (nullable = true)\n",
      " |-- guest_id: integer (nullable = true)\n",
      " |-- hotel_id: integer (nullable = true)\n",
      " |-- check_in_date: date (nullable = true)\n",
      " |-- check_out_date: date (nullable = true)\n",
      " |-- num_nights: integer (nullable = true)\n",
      " |-- room_rate: integer (nullable = true)\n",
      "\n"
     ]
    }
   ],
   "source": [
    "bookings_df.printSchema()"
   ]
  },
  {
   "cell_type": "code",
   "execution_count": 21,
   "id": "12cb1f86",
   "metadata": {},
   "outputs": [
    {
     "name": "stdout",
     "output_type": "stream",
     "text": [
      "root\n",
      " |-- hotel_id: integer (nullable = true)\n",
      " |-- hotel_name: string (nullable = true)\n",
      " |-- city: string (nullable = true)\n",
      " |-- star_rating: integer (nullable = true)\n",
      "\n"
     ]
    }
   ],
   "source": [
    "hotels_df.printSchema()"
   ]
  },
  {
   "cell_type": "code",
   "execution_count": 22,
   "id": "f7460c2b",
   "metadata": {},
   "outputs": [
    {
     "name": "stdout",
     "output_type": "stream",
     "text": [
      "+--------+---------------+\n",
      "|guest_id|     guest_name|\n",
      "+--------+---------------+\n",
      "|      34|Travis Davidson|\n",
      "|      14|   Dennis Allen|\n",
      "|      21|    Emily Moore|\n",
      "+--------+---------------+\n",
      "\n"
     ]
    }
   ],
   "source": [
    "spark.sql(\n",
    "    \"\"\"\n",
    "    SELECT\n",
    "        g.guest_id,\n",
    "        g.guest_name\n",
    "    FROM guests g\n",
    "    JOIN bookings b\n",
    "    USING (guest_id)\n",
    "    JOIN hotels h\n",
    "    USING (hotel_id)\n",
    "    GROUP BY 1, 2\n",
    "    HAVING MIN(h.star_rating) = 5 AND MAX(h.star_rating) = 5\n",
    "    \"\"\"\n",
    ").show()"
   ]
  },
  {
   "cell_type": "code",
   "execution_count": 23,
   "id": "b441b704",
   "metadata": {},
   "outputs": [
    {
     "name": "stdout",
     "output_type": "stream",
     "text": [
      "+--------+---------------+\n",
      "|guest_id|     guest_name|\n",
      "+--------+---------------+\n",
      "|      34|Travis Davidson|\n",
      "|      14|   Dennis Allen|\n",
      "|      21|    Emily Moore|\n",
      "+--------+---------------+\n",
      "\n"
     ]
    }
   ],
   "source": [
    "all_joined_df = guests_df.join(\n",
    "    bookings_df,\n",
    "    on=\"guest_id\",\n",
    "    how=\"inner\"\n",
    ").join(\n",
    "    hotels_df,\n",
    "    on=\"hotel_id\",\n",
    "    how=\"inner\"\n",
    ")\n",
    "\n",
    "grouped_df = all_joined_df.groupBy(\"guest_id\", \"guest_name\") \\\n",
    "    .agg(\n",
    "        F.min(F.col(\"star_rating\")).alias(\"min_star\"),\n",
    "        F.max(F.col(\"star_rating\")).alias(\"max_star\")\n",
    "    )\n",
    "\n",
    "grouped_df.filter(\n",
    "    (F.col(\"min_star\") == 5)\n",
    "    &\n",
    "    (F.col(\"max_star\") == 5)\n",
    ").select(\n",
    "    \"guest_id\",\n",
    "    \"guest_name\"\n",
    ").show()"
   ]
  },
  {
   "cell_type": "markdown",
   "id": "6e34bed9",
   "metadata": {},
   "source": [
    "### Find hotels that were booked by guests from more than 3 different countries."
   ]
  },
  {
   "cell_type": "code",
   "execution_count": 24,
   "id": "924ce752",
   "metadata": {},
   "outputs": [
    {
     "name": "stdout",
     "output_type": "stream",
     "text": [
      "+--------+--------------------+----------------+\n",
      "|hotel_id|          hotel_name|unique_countries|\n",
      "+--------+--------------------+----------------+\n",
      "|       4|         Huffman Inc|              12|\n",
      "|       8|Davis, Crane and ...|              11|\n",
      "|       5|Salazar, Porter a...|              11|\n",
      "|       6|      Clark and Sons|               9|\n",
      "|      10|           Lopez Ltd|               6|\n",
      "|       7|          Chavez PLC|               6|\n",
      "|       3|        Roach-Jarvis|               6|\n",
      "|       2|         Smith Group|               6|\n",
      "|       9|        Knight Group|               5|\n",
      "|       1|        Lin-Williams|               5|\n",
      "+--------+--------------------+----------------+\n",
      "\n"
     ]
    }
   ],
   "source": [
    "spark.sql(\n",
    "    \"\"\"\n",
    "    SELECT\n",
    "        b.hotel_id,\n",
    "        h.hotel_name,\n",
    "        COUNT(DISTINCT g.country) AS unique_countries\n",
    "    FROM bookings b\n",
    "    LEFT JOIN guests g\n",
    "    USING (guest_id)\n",
    "    LEFT JOIN hotels h\n",
    "    USING (hotel_id)\n",
    "    GROUP BY 1, 2\n",
    "    HAVING COUNT(DISTINCT g.country) > 3\n",
    "    ORDER BY 3 DESC\n",
    "    \"\"\"\n",
    ").show()"
   ]
  },
  {
   "cell_type": "code",
   "execution_count": 25,
   "id": "7bddfd0c",
   "metadata": {},
   "outputs": [
    {
     "name": "stdout",
     "output_type": "stream",
     "text": [
      "+--------+--------------------+--------------------+\n",
      "|hotel_id|          hotel_name|unique_country_count|\n",
      "+--------+--------------------+--------------------+\n",
      "|       4|         Huffman Inc|                  12|\n",
      "|       8|Davis, Crane and ...|                  11|\n",
      "|       5|Salazar, Porter a...|                  11|\n",
      "|       6|      Clark and Sons|                   9|\n",
      "|      10|           Lopez Ltd|                   6|\n",
      "|       7|          Chavez PLC|                   6|\n",
      "|       3|        Roach-Jarvis|                   6|\n",
      "|       2|         Smith Group|                   6|\n",
      "|       9|        Knight Group|                   5|\n",
      "|       1|        Lin-Williams|                   5|\n",
      "+--------+--------------------+--------------------+\n",
      "\n"
     ]
    }
   ],
   "source": [
    "all_joined_df = bookings_df.join(\n",
    "    guests_df,\n",
    "    on=\"guest_id\",\n",
    "    how=\"left\"\n",
    ").join(\n",
    "    hotels_df,\n",
    "    on=\"hotel_id\",\n",
    "    how=\"left\"\n",
    ")\n",
    "\n",
    "grouped_df = all_joined_df.groupBy(\"hotel_id\", \"hotel_name\") \\\n",
    "    .agg(F.countDistinct(F.col(\"country\")).alias(\"unique_country_count\")) \\\n",
    "    .orderBy(F.col(\"unique_country_count\").desc())\n",
    "\n",
    "grouped_df.filter(F.col(\"unique_country_count\") > 3) \\\n",
    "    .select(\"hotel_id\", \"hotel_name\", \"unique_country_count\") \\\n",
    "    .show()"
   ]
  },
  {
   "cell_type": "markdown",
   "id": "52d013ba",
   "metadata": {},
   "source": [
    "### Show top 5 guests who spent the most across all bookings."
   ]
  },
  {
   "cell_type": "code",
   "execution_count": 26,
   "id": "12460213",
   "metadata": {},
   "outputs": [
    {
     "name": "stdout",
     "output_type": "stream",
     "text": [
      "+--------+------------------+-----------+\n",
      "|guest_id|        guest_name|total_spent|\n",
      "+--------+------------------+-----------+\n",
      "|      38|Mark Robertson Jr.|       7700|\n",
      "|      40|      Andrew Smith|       5650|\n",
      "|      26|     Jessica Perry|       4800|\n",
      "|      25|      Juan Rosario|       4050|\n",
      "|       5| Lindsay Blake DDS|       3400|\n",
      "+--------+------------------+-----------+\n",
      "\n"
     ]
    }
   ],
   "source": [
    "spark.sql(\n",
    "    \"\"\"\n",
    "    SELECT\n",
    "        b.guest_id,\n",
    "        g.guest_name,\n",
    "        SUM(b.num_nights * b.room_rate) AS total_spent\n",
    "    FROM bookings b\n",
    "    LEFT JOIN guests g\n",
    "    USING (guest_id)\n",
    "    GROUP BY 1, 2\n",
    "    ORDER BY 3 DESC\n",
    "    LIMIT 5\n",
    "    \"\"\"\n",
    ").show()"
   ]
  },
  {
   "cell_type": "code",
   "execution_count": 27,
   "id": "547162b3",
   "metadata": {},
   "outputs": [
    {
     "name": "stdout",
     "output_type": "stream",
     "text": [
      "+--------+------------------+-----------+\n",
      "|guest_id|        guest_name|total_spent|\n",
      "+--------+------------------+-----------+\n",
      "|      38|Mark Robertson Jr.|       7700|\n",
      "|      40|      Andrew Smith|       5650|\n",
      "|      26|     Jessica Perry|       4800|\n",
      "|      25|      Juan Rosario|       4050|\n",
      "|       5| Lindsay Blake DDS|       3400|\n",
      "+--------+------------------+-----------+\n",
      "\n"
     ]
    }
   ],
   "source": [
    "joined_df = bookings_df.join(\n",
    "    guests_df,\n",
    "    on=\"guest_id\",\n",
    "    how=\"left\"\n",
    ")\n",
    "\n",
    "joined_df.groupBy(\"guest_id\", \"guest_name\") \\\n",
    "    .agg(F.sum(F.col(\"num_nights\") * F.col(\"room_rate\")).alias(\"total_spent\")) \\\n",
    "    .orderBy(F.col(\"total_spent\").desc()) \\\n",
    "    .limit(5) \\\n",
    "    .show()"
   ]
  },
  {
   "cell_type": "markdown",
   "id": "0ea552c7",
   "metadata": {},
   "source": [
    "### Join guests and bookings and show guest names, their countries, and total nights stayed."
   ]
  },
  {
   "cell_type": "code",
   "execution_count": 29,
   "id": "41379647",
   "metadata": {},
   "outputs": [
    {
     "name": "stdout",
     "output_type": "stream",
     "text": [
      "+--------+------------------+--------------------+------------+\n",
      "|guest_id|        guest_name|             country|total_nights|\n",
      "+--------+------------------+--------------------+------------+\n",
      "|      38|Mark Robertson Jr.|         Switzerland|          45|\n",
      "|      25|      Juan Rosario|             Comoros|          38|\n",
      "|      40|      Andrew Smith|                Chad|          25|\n",
      "|      23|    Mary Alexander|French Southern T...|          23|\n",
      "|      26|     Jessica Perry|          San Marino|          22|\n",
      "|       5| Lindsay Blake DDS|            Paraguay|          22|\n",
      "|      16|      Daniel Wells|Saint Kitts and N...|          21|\n",
      "|      18|       Sandra Wall|             Albania|          21|\n",
      "|      13|Christopher Murphy|              Norway|          21|\n",
      "|       4|  Ashley Carpenter|         Puerto Rico|          21|\n",
      "|      39|        Jesse Hill|Svalbard & Jan Ma...|          18|\n",
      "|       8|   Jennifer Grimes|       Faroe Islands|          18|\n",
      "|      31|      Scott Rhodes|            Bulgaria|          16|\n",
      "|      30|   Adam Pennington|  Russian Federation|          16|\n",
      "|      37|   David Hernandez|       Guinea-Bissau|          15|\n",
      "|      28|      Donna Osborn|               Samoa|          14|\n",
      "|       9|     Brett Shields|              Zambia|          14|\n",
      "|      29|Derrick Ramirez MD|             Denmark|          13|\n",
      "|       7|      Diane Howard|            Paraguay|          13|\n",
      "|      12| Christopher Smith|Bouvet Island (Bo...|          11|\n",
      "+--------+------------------+--------------------+------------+\n",
      "only showing top 20 rows\n",
      "\n"
     ]
    }
   ],
   "source": [
    "spark.sql(\n",
    "    \"\"\"\n",
    "    SELECT\n",
    "        b.guest_id,\n",
    "        g.guest_name,\n",
    "        g.country,\n",
    "        SUM(b.num_nights) as total_nights\n",
    "    FROM bookings b\n",
    "    LEFT JOIN guests g\n",
    "    USING (guest_id)\n",
    "    GROUP BY 1, 2, 3\n",
    "    ORDER BY 4 DESC\n",
    "    \"\"\"\n",
    ").show()"
   ]
  },
  {
   "cell_type": "code",
   "execution_count": 33,
   "id": "8cf43b98",
   "metadata": {},
   "outputs": [
    {
     "name": "stdout",
     "output_type": "stream",
     "text": [
      "+--------+------------------+--------------------+------------+\n",
      "|guest_id|        guest_name|             country|total_nights|\n",
      "+--------+------------------+--------------------+------------+\n",
      "|      38|Mark Robertson Jr.|         Switzerland|          45|\n",
      "|      25|      Juan Rosario|             Comoros|          38|\n",
      "|      40|      Andrew Smith|                Chad|          25|\n",
      "|      23|    Mary Alexander|French Southern T...|          23|\n",
      "|      26|     Jessica Perry|          San Marino|          22|\n",
      "|       5| Lindsay Blake DDS|            Paraguay|          22|\n",
      "|      16|      Daniel Wells|Saint Kitts and N...|          21|\n",
      "|      18|       Sandra Wall|             Albania|          21|\n",
      "|      13|Christopher Murphy|              Norway|          21|\n",
      "|       4|  Ashley Carpenter|         Puerto Rico|          21|\n",
      "|      39|        Jesse Hill|Svalbard & Jan Ma...|          18|\n",
      "|       8|   Jennifer Grimes|       Faroe Islands|          18|\n",
      "|      31|      Scott Rhodes|            Bulgaria|          16|\n",
      "|      30|   Adam Pennington|  Russian Federation|          16|\n",
      "|      37|   David Hernandez|       Guinea-Bissau|          15|\n",
      "|      28|      Donna Osborn|               Samoa|          14|\n",
      "|       9|     Brett Shields|              Zambia|          14|\n",
      "|      29|Derrick Ramirez MD|             Denmark|          13|\n",
      "|       7|      Diane Howard|            Paraguay|          13|\n",
      "|      12| Christopher Smith|Bouvet Island (Bo...|          11|\n",
      "+--------+------------------+--------------------+------------+\n",
      "only showing top 20 rows\n",
      "\n"
     ]
    }
   ],
   "source": [
    "joined_df = bookings_df.join(\n",
    "    guests_df,\n",
    "    on=\"guest_id\",\n",
    "    how=\"left\"\n",
    ")\n",
    "\n",
    "joined_df.groupBy(\"guest_id\", \"guest_name\", \"country\") \\\n",
    "    .agg(F.sum(F.col(\"num_nights\")).alias(\"total_nights\")) \\\n",
    "    .orderBy(F.col(\"total_nights\").desc()) \\\n",
    "    .show()"
   ]
  },
  {
   "cell_type": "markdown",
   "id": "d726fb50",
   "metadata": {},
   "source": [
    "### Add a new column to bookings: total_amount = num_nights * room_rate. Show top 5 highest value bookings."
   ]
  },
  {
   "cell_type": "code",
   "execution_count": 34,
   "id": "292361f8",
   "metadata": {},
   "outputs": [
    {
     "name": "stdout",
     "output_type": "stream",
     "text": [
      "+----------+------------+\n",
      "|booking_id|total_amount|\n",
      "+----------+------------+\n",
      "|         1|        1400|\n",
      "|         2|        1800|\n",
      "|         3|         600|\n",
      "|         4|        1200|\n",
      "|         5|         400|\n",
      "|         6|         450|\n",
      "|         7|        1000|\n",
      "|         8|         600|\n",
      "|         9|         600|\n",
      "|        10|        1800|\n",
      "|        11|         150|\n",
      "|        12|         300|\n",
      "|        13|         600|\n",
      "|        14|        1800|\n",
      "|        15|         450|\n",
      "|        16|         700|\n",
      "|        17|        1200|\n",
      "|        18|        1350|\n",
      "|        19|         150|\n",
      "|        20|        1800|\n",
      "+----------+------------+\n",
      "only showing top 20 rows\n",
      "\n"
     ]
    }
   ],
   "source": [
    "spark.sql(\n",
    "    \"\"\"\n",
    "    SELECT\n",
    "        booking_id,\n",
    "        num_nights * room_rate AS total_amount\n",
    "    FROM bookings\n",
    "    \"\"\"\n",
    ").show()"
   ]
  },
  {
   "cell_type": "code",
   "execution_count": 36,
   "id": "9999b9d2",
   "metadata": {},
   "outputs": [
    {
     "name": "stdout",
     "output_type": "stream",
     "text": [
      "+----------+------------+\n",
      "|booking_id|total_amount|\n",
      "+----------+------------+\n",
      "|         1|        1400|\n",
      "|         2|        1800|\n",
      "|         3|         600|\n",
      "|         4|        1200|\n",
      "|         5|         400|\n",
      "|         6|         450|\n",
      "|         7|        1000|\n",
      "|         8|         600|\n",
      "|         9|         600|\n",
      "|        10|        1800|\n",
      "|        11|         150|\n",
      "|        12|         300|\n",
      "|        13|         600|\n",
      "|        14|        1800|\n",
      "|        15|         450|\n",
      "|        16|         700|\n",
      "|        17|        1200|\n",
      "|        18|        1350|\n",
      "|        19|         150|\n",
      "|        20|        1800|\n",
      "+----------+------------+\n",
      "only showing top 20 rows\n",
      "\n"
     ]
    }
   ],
   "source": [
    "bookings_df.withColumn(\n",
    "    \"total_amount\",\n",
    "    F.col(\"num_nights\") * F.col(\"room_rate\")\n",
    ").select(\n",
    "    \"booking_id\",\n",
    "    \"total_amount\"\n",
    ").show()"
   ]
  },
  {
   "cell_type": "markdown",
   "id": "373f8b51",
   "metadata": {},
   "source": [
    "### For each city, find the number of bookings and the average star rating."
   ]
  },
  {
   "cell_type": "code",
   "execution_count": 38,
   "id": "de4eee36",
   "metadata": {},
   "outputs": [
    {
     "name": "stdout",
     "output_type": "stream",
     "text": [
      "+-----------------+-------------+---------------+\n",
      "|             city|booking_count|avg_star_rating|\n",
      "+-----------------+-------------+---------------+\n",
      "|       Millertown|           13|            5.0|\n",
      "|   South Leeshire|           11|            4.0|\n",
      "|      Hensleyland|            6|            5.0|\n",
      "|       Bryantfort|            5|            3.0|\n",
      "|   Lake Markville|            9|            5.0|\n",
      "|   Manningborough|            5|            5.0|\n",
      "|   New Keithshire|           14|            3.0|\n",
      "|      Weavermouth|           13|            4.0|\n",
      "|      Andreashire|            6|            3.0|\n",
      "|Port Samanthaside|            8|            4.0|\n",
      "+-----------------+-------------+---------------+\n",
      "\n"
     ]
    }
   ],
   "source": [
    "spark.sql(\n",
    "    \"\"\"\n",
    "    SELECT\n",
    "        h.city,\n",
    "        COUNT(b.booking_id) AS booking_count,\n",
    "        AVG(h.star_rating) AS avg_star_rating\n",
    "    FROM hotels h\n",
    "    LEFT JOIN bookings b\n",
    "    USING (hotel_id)\n",
    "    GROUP BY 1\n",
    "    \"\"\"\n",
    ").show()"
   ]
  },
  {
   "cell_type": "code",
   "execution_count": 40,
   "id": "fa16df41",
   "metadata": {},
   "outputs": [
    {
     "name": "stdout",
     "output_type": "stream",
     "text": [
      "+-----------------+-------------+---------------+\n",
      "|             city|booking_count|avg_star_rating|\n",
      "+-----------------+-------------+---------------+\n",
      "|       Millertown|           13|            5.0|\n",
      "|   South Leeshire|           11|            4.0|\n",
      "|      Hensleyland|            6|            5.0|\n",
      "|       Bryantfort|            5|            3.0|\n",
      "|   Lake Markville|            9|            5.0|\n",
      "|   Manningborough|            5|            5.0|\n",
      "|   New Keithshire|           14|            3.0|\n",
      "|      Weavermouth|           13|            4.0|\n",
      "|      Andreashire|            6|            3.0|\n",
      "|Port Samanthaside|            8|            4.0|\n",
      "+-----------------+-------------+---------------+\n",
      "\n"
     ]
    }
   ],
   "source": [
    "joined_df = hotels_df.join(\n",
    "    bookings_df,\n",
    "    on=\"hotel_id\",\n",
    "    how=\"left\"\n",
    ")\n",
    "\n",
    "joined_df.groupBy(\"city\") \\\n",
    "    .agg(\n",
    "        F.count(F.col(\"booking_id\")).alias(\"booking_count\"),\n",
    "        F.avg(F.col(\"star_rating\")).alias(\"avg_star_rating\")\n",
    "    ) \\\n",
    "    .show()"
   ]
  },
  {
   "cell_type": "markdown",
   "id": "b81c83c4",
   "metadata": {},
   "source": [
    "### Use window functions to rank hotels by revenue in each city."
   ]
  },
  {
   "cell_type": "code",
   "execution_count": 43,
   "id": "dcfb50c1",
   "metadata": {},
   "outputs": [
    {
     "name": "stdout",
     "output_type": "stream",
     "text": [
      "+-----------------+--------+--------------------+-------------+---+\n",
      "|             city|hotel_id|          hotel_name|total_revenue|rnk|\n",
      "+-----------------+--------+--------------------+-------------+---+\n",
      "|      Andreashire|       2|         Smith Group|         3250|  1|\n",
      "|       Bryantfort|       9|        Knight Group|         5050|  1|\n",
      "|      Hensleyland|       3|        Roach-Jarvis|         8350|  1|\n",
      "|   Lake Markville|       7|          Chavez PLC|         8800|  1|\n",
      "|   Manningborough|       1|        Lin-Williams|         7650|  1|\n",
      "|       Millertown|       5|Salazar, Porter a...|        14800|  1|\n",
      "|   New Keithshire|       4|         Huffman Inc|         9750|  1|\n",
      "|Port Samanthaside|      10|           Lopez Ltd|         7950|  1|\n",
      "|   South Leeshire|       6|      Clark and Sons|         8950|  1|\n",
      "|      Weavermouth|       8|Davis, Crane and ...|        10300|  1|\n",
      "+-----------------+--------+--------------------+-------------+---+\n",
      "\n"
     ]
    }
   ],
   "source": [
    "spark.sql(\n",
    "    \"\"\"\n",
    "    WITH revenue AS (\n",
    "        SELECT\n",
    "            b.hotel_id,\n",
    "            h.city,\n",
    "            h.hotel_name,\n",
    "            SUM(b.num_nights * b.room_rate) AS total_revenue\n",
    "        FROM bookings b\n",
    "        LEFT JOIN hotels h\n",
    "        USING (hotel_id)\n",
    "        GROUP BY 1, 2, 3\n",
    "    )\n",
    "    \n",
    "    SELECT\n",
    "        city,\n",
    "        hotel_id,\n",
    "        hotel_name,\n",
    "        total_revenue,\n",
    "        DENSE_RANK() OVER (PARTITION BY city ORDER BY total_revenue DESC) AS rnk\n",
    "    FROM revenue\n",
    "    \"\"\"\n",
    ").show()"
   ]
  },
  {
   "cell_type": "code",
   "execution_count": 45,
   "id": "15698aaa",
   "metadata": {},
   "outputs": [
    {
     "name": "stdout",
     "output_type": "stream",
     "text": [
      "+-----------------+--------+--------------------+-------------+---+\n",
      "|             city|hotel_id|          hotel_name|total_revenue|rnk|\n",
      "+-----------------+--------+--------------------+-------------+---+\n",
      "|      Andreashire|       2|         Smith Group|         3250|  1|\n",
      "|       Bryantfort|       9|        Knight Group|         5050|  1|\n",
      "|      Hensleyland|       3|        Roach-Jarvis|         8350|  1|\n",
      "|   Lake Markville|       7|          Chavez PLC|         8800|  1|\n",
      "|   Manningborough|       1|        Lin-Williams|         7650|  1|\n",
      "|       Millertown|       5|Salazar, Porter a...|        14800|  1|\n",
      "|   New Keithshire|       4|         Huffman Inc|         9750|  1|\n",
      "|Port Samanthaside|      10|           Lopez Ltd|         7950|  1|\n",
      "|   South Leeshire|       6|      Clark and Sons|         8950|  1|\n",
      "|      Weavermouth|       8|Davis, Crane and ...|        10300|  1|\n",
      "+-----------------+--------+--------------------+-------------+---+\n",
      "\n"
     ]
    }
   ],
   "source": [
    "joined_df = bookings_df.join(\n",
    "    hotels_df,\n",
    "    on=\"hotel_id\",\n",
    "    how=\"left\"\n",
    ")\n",
    "\n",
    "grouped_df = joined_df.groupBy(\"hotel_id\", \"city\", \"hotel_name\") \\\n",
    "    .agg(F.sum(F.col(\"num_nights\") * F.col(\"room_rate\")).alias(\"total_revenue\"))\n",
    "\n",
    "window_spec = Window.partitionBy(F.col(\"city\")).orderBy(F.col(\"total_revenue\").desc())\n",
    "\n",
    "grouped_df.withColumn(\n",
    "    \"rnk\",\n",
    "    F.dense_rank().over(window_spec)\n",
    ").select(\n",
    "    \"city\",\n",
    "    \"hotel_id\",\n",
    "    \"hotel_name\",\n",
    "    \"total_revenue\",\n",
    "    \"rnk\"\n",
    ").show()"
   ]
  },
  {
   "cell_type": "markdown",
   "id": "b4bf71b2",
   "metadata": {},
   "source": [
    "### Using ROW_NUMBER, find the most recent booking per guest."
   ]
  },
  {
   "cell_type": "code",
   "execution_count": 50,
   "id": "bf0e8d8b",
   "metadata": {},
   "outputs": [
    {
     "name": "stdout",
     "output_type": "stream",
     "text": [
      "+--------+------------------+-------------+\n",
      "|guest_id|        guest_name|check_in_date|\n",
      "+--------+------------------+-------------+\n",
      "|       1|     Sandra Turner|   2025-02-17|\n",
      "|       3|      Jamie Murphy|   2025-01-08|\n",
      "|       4|  Ashley Carpenter|   2024-01-09|\n",
      "|       5| Lindsay Blake DDS|   2024-11-21|\n",
      "|       6|        Michael Le|   2024-08-02|\n",
      "|       7|      Diane Howard|   2024-05-16|\n",
      "|       8|   Jennifer Grimes|   2025-01-07|\n",
      "|       9|     Brett Shields|   2025-03-25|\n",
      "|      10|       James Green|   2024-05-23|\n",
      "|      11|        Gary Cantu|   2023-08-25|\n",
      "|      12| Christopher Smith|   2023-11-05|\n",
      "|      13|Christopher Murphy|   2024-12-06|\n",
      "|      14|      Dennis Allen|   2024-05-17|\n",
      "|      15|    Amanda Daniels|   2024-02-02|\n",
      "|      16|      Daniel Wells|   2025-04-03|\n",
      "|      18|       Sandra Wall|   2024-06-03|\n",
      "|      19|        Lisa Jones|   2025-03-09|\n",
      "|      21|       Emily Moore|   2024-01-18|\n",
      "|      22|      Mary Jimenez|   2025-04-09|\n",
      "|      23|    Mary Alexander|   2025-01-04|\n",
      "+--------+------------------+-------------+\n",
      "only showing top 20 rows\n",
      "\n"
     ]
    }
   ],
   "source": [
    "spark.sql(\n",
    "    \"\"\"\n",
    "    WITH chk_date AS (\n",
    "        SELECT\n",
    "            b.guest_id,\n",
    "            g.guest_name,\n",
    "            b.check_in_date,\n",
    "            ROW_NUMBER () OVER (PARTITION BY b.guest_id ORDER BY b.check_in_date DESC) AS chk_in\n",
    "        FROM bookings b\n",
    "        JOIN guests g\n",
    "        USING (guest_id)\n",
    "    )\n",
    "    \n",
    "    SELECT\n",
    "        guest_id,\n",
    "        guest_name,\n",
    "        check_in_date\n",
    "    FROM chk_date\n",
    "    WHERE chk_in = 1\n",
    "    \"\"\"\n",
    ").show()"
   ]
  },
  {
   "cell_type": "code",
   "execution_count": 51,
   "id": "b24738d8",
   "metadata": {},
   "outputs": [
    {
     "name": "stdout",
     "output_type": "stream",
     "text": [
      "+--------+------------------+-------------+\n",
      "|guest_id|        guest_name|check_in_date|\n",
      "+--------+------------------+-------------+\n",
      "|       1|     Sandra Turner|   2025-02-17|\n",
      "|       3|      Jamie Murphy|   2025-01-08|\n",
      "|       4|  Ashley Carpenter|   2024-01-09|\n",
      "|       5| Lindsay Blake DDS|   2024-11-21|\n",
      "|       6|        Michael Le|   2024-08-02|\n",
      "|       7|      Diane Howard|   2024-05-16|\n",
      "|       8|   Jennifer Grimes|   2025-01-07|\n",
      "|       9|     Brett Shields|   2025-03-25|\n",
      "|      10|       James Green|   2024-05-23|\n",
      "|      11|        Gary Cantu|   2023-08-25|\n",
      "|      12| Christopher Smith|   2023-11-05|\n",
      "|      13|Christopher Murphy|   2024-12-06|\n",
      "|      14|      Dennis Allen|   2024-05-17|\n",
      "|      15|    Amanda Daniels|   2024-02-02|\n",
      "|      16|      Daniel Wells|   2025-04-03|\n",
      "|      18|       Sandra Wall|   2024-06-03|\n",
      "|      19|        Lisa Jones|   2025-03-09|\n",
      "|      21|       Emily Moore|   2024-01-18|\n",
      "|      22|      Mary Jimenez|   2025-04-09|\n",
      "|      23|    Mary Alexander|   2025-01-04|\n",
      "+--------+------------------+-------------+\n",
      "only showing top 20 rows\n",
      "\n"
     ]
    }
   ],
   "source": [
    "joined_df = bookings_df.join(\n",
    "    guests_df,\n",
    "    on=\"guest_id\",\n",
    "    how=\"inner\"\n",
    ")\n",
    "\n",
    "window_spec = Window.partitionBy(F.col(\"guest_id\")).orderBy(F.col(\"check_in_date\").desc())\n",
    "\n",
    "added_col = joined_df.withColumn(\n",
    "    \"chk_in\",\n",
    "    F.row_number().over(window_spec)\n",
    ")\n",
    "\n",
    "added_col.filter(F.col(\"chk_in\") == 1) \\\n",
    "    .select(\n",
    "        \"guest_id\",\n",
    "        \"guest_name\",\n",
    "        \"check_in_date\"\n",
    "    ).show()"
   ]
  }
 ],
 "metadata": {
  "kernelspec": {
   "display_name": "venv",
   "language": "python",
   "name": "python3"
  },
  "language_info": {
   "codemirror_mode": {
    "name": "ipython",
    "version": 3
   },
   "file_extension": ".py",
   "mimetype": "text/x-python",
   "name": "python",
   "nbconvert_exporter": "python",
   "pygments_lexer": "ipython3",
   "version": "3.9.6"
  }
 },
 "nbformat": 4,
 "nbformat_minor": 5
}
