{
 "cells": [
  {
   "cell_type": "code",
   "execution_count": 1,
   "id": "18ab4e96",
   "metadata": {},
   "outputs": [],
   "source": [
    "import pyspark\n",
    "from pyspark.sql import SparkSession\n",
    "from pyspark.sql.functions import *"
   ]
  },
  {
   "cell_type": "code",
   "execution_count": 2,
   "id": "8bcff4f7",
   "metadata": {},
   "outputs": [
    {
     "name": "stdout",
     "output_type": "stream",
     "text": [
      "3.5.5\n"
     ]
    }
   ],
   "source": [
    "print(pyspark.__version__)"
   ]
  },
  {
   "cell_type": "code",
   "execution_count": 3,
   "id": "e6a5931a",
   "metadata": {},
   "outputs": [
    {
     "name": "stderr",
     "output_type": "stream",
     "text": [
      "25/05/04 18:29:46 WARN Utils: Your hostname, Ameys-Mac-mini.local resolves to a loopback address: 127.0.0.1; using 192.168.1.12 instead (on interface en1)\n",
      "25/05/04 18:29:46 WARN Utils: Set SPARK_LOCAL_IP if you need to bind to another address\n",
      "Setting default log level to \"WARN\".\n",
      "To adjust logging level use sc.setLogLevel(newLevel). For SparkR, use setLogLevel(newLevel).\n",
      "25/05/04 18:29:46 WARN NativeCodeLoader: Unable to load native-hadoop library for your platform... using builtin-java classes where applicable\n"
     ]
    }
   ],
   "source": [
    "spark = SparkSession.builder \\\n",
    "        .appName(\"Movie_ratings\") \\\n",
    "        .master(\"local[*]\") \\\n",
    "        .getOrCreate()"
   ]
  },
  {
   "cell_type": "code",
   "execution_count": 4,
   "id": "196de110",
   "metadata": {},
   "outputs": [],
   "source": [
    "df = spark.read.csv(\"movie_ratings_project.csv\", header=True, inferSchema=True)"
   ]
  },
  {
   "cell_type": "code",
   "execution_count": 5,
   "id": "e29937cd",
   "metadata": {},
   "outputs": [
    {
     "name": "stdout",
     "output_type": "stream",
     "text": [
      "+-------+--------------------+--------+------+-----------+\n",
      "|user_id|         movie_title|   genre|rating|review_date|\n",
      "+-------+--------------------+--------+------+-----------+\n",
      "|    445|     Scene give open|  Comedy|     2| 2024-04-06|\n",
      "|    870|      Ok nature race|  Sci-Fi|     4| 2024-05-03|\n",
      "|    177|      Response along|  Sci-Fi|     5| 2024-01-25|\n",
      "|    401|       Prepare phone| Romance|     5| 2024-09-03|\n",
      "|    308|         Alone above|  Action|     5| 2024-10-08|\n",
      "|    899|Industry operatio...|  Action|     1| 2023-11-26|\n",
      "|    347|      Determine meet| Romance|     2| 2025-01-25|\n",
      "|    314|      Reach election|  Sci-Fi|     5| 2023-07-19|\n",
      "|    788|          View color|   Drama|     4| 2024-02-16|\n",
      "|    426|Probably result give|  Sci-Fi|     5| 2025-01-14|\n",
      "|    885|            Pressure|Thriller|     2| 2023-12-11|\n",
      "|    859|             Science|  Horror|     3| 2023-06-08|\n",
      "|    482|            Pressure|  Action|     1| 2024-02-02|\n",
      "|    929|              Speech|  Sci-Fi|     3| 2023-07-24|\n",
      "|    748|      Determine meet|Thriller|     4| 2024-12-21|\n",
      "|    798|      Ok nature race|  Horror|     3| 2025-04-17|\n",
      "|    928|               Agent|   Drama|     4| 2024-04-01|\n",
      "|    326|      Response along| Romance|     4| 2023-09-18|\n",
      "|    197|      Candidate song|Thriller|     4| 2025-04-04|\n",
      "|    354|Respond actually ...|  Horror|     1| 2024-02-13|\n",
      "+-------+--------------------+--------+------+-----------+\n",
      "only showing top 20 rows\n",
      "\n"
     ]
    }
   ],
   "source": [
    "df.show()"
   ]
  },
  {
   "cell_type": "markdown",
   "id": "213bafd2",
   "metadata": {},
   "source": [
    "## Data Exploration and Cleaning"
   ]
  },
  {
   "cell_type": "markdown",
   "id": "484ece85",
   "metadata": {},
   "source": [
    "### Print the schema and display the first 5 records."
   ]
  },
  {
   "cell_type": "code",
   "execution_count": 6,
   "id": "d46b7936",
   "metadata": {},
   "outputs": [
    {
     "name": "stdout",
     "output_type": "stream",
     "text": [
      "root\n",
      " |-- user_id: integer (nullable = true)\n",
      " |-- movie_title: string (nullable = true)\n",
      " |-- genre: string (nullable = true)\n",
      " |-- rating: integer (nullable = true)\n",
      " |-- review_date: date (nullable = true)\n",
      "\n"
     ]
    }
   ],
   "source": [
    "df.printSchema()"
   ]
  },
  {
   "cell_type": "code",
   "execution_count": 7,
   "id": "6e67e008",
   "metadata": {},
   "outputs": [
    {
     "name": "stdout",
     "output_type": "stream",
     "text": [
      "+-------+---------------+-------+------+-----------+\n",
      "|user_id|    movie_title|  genre|rating|review_date|\n",
      "+-------+---------------+-------+------+-----------+\n",
      "|    445|Scene give open| Comedy|     2| 2024-04-06|\n",
      "|    870| Ok nature race| Sci-Fi|     4| 2024-05-03|\n",
      "|    177| Response along| Sci-Fi|     5| 2024-01-25|\n",
      "|    401|  Prepare phone|Romance|     5| 2024-09-03|\n",
      "|    308|    Alone above| Action|     5| 2024-10-08|\n",
      "+-------+---------------+-------+------+-----------+\n",
      "only showing top 5 rows\n",
      "\n"
     ]
    }
   ],
   "source": [
    "df.show(5)"
   ]
  },
  {
   "cell_type": "markdown",
   "id": "fa6f7309",
   "metadata": {},
   "source": [
    "### Find the number of unique users."
   ]
  },
  {
   "cell_type": "code",
   "execution_count": 8,
   "id": "1f3bf985",
   "metadata": {},
   "outputs": [],
   "source": [
    "df.createOrReplaceTempView(\"movie_ratings\")"
   ]
  },
  {
   "cell_type": "code",
   "execution_count": 9,
   "id": "b43889a3",
   "metadata": {},
   "outputs": [
    {
     "name": "stdout",
     "output_type": "stream",
     "text": [
      "+------------+\n",
      "|unique_users|\n",
      "+------------+\n",
      "|          70|\n",
      "+------------+\n",
      "\n"
     ]
    }
   ],
   "source": [
    "spark.sql(\n",
    "    \"\"\"\n",
    "    SELECT\n",
    "        count(distinct user_id) as unique_users\n",
    "    FROM movie_ratings\n",
    "    \"\"\"\n",
    ").show()"
   ]
  },
  {
   "cell_type": "code",
   "execution_count": 10,
   "id": "9f9f031b",
   "metadata": {},
   "outputs": [
    {
     "name": "stdout",
     "output_type": "stream",
     "text": [
      "+------------+\n",
      "|unique_users|\n",
      "+------------+\n",
      "|          70|\n",
      "+------------+\n",
      "\n"
     ]
    }
   ],
   "source": [
    "df.select(countDistinct(\"user_id\").alias(\"unique_users\")).show()"
   ]
  },
  {
   "cell_type": "markdown",
   "id": "fd6e8726",
   "metadata": {},
   "source": [
    "### List all distinct genres available."
   ]
  },
  {
   "cell_type": "code",
   "execution_count": 11,
   "id": "f4419792",
   "metadata": {},
   "outputs": [
    {
     "name": "stdout",
     "output_type": "stream",
     "text": [
      "+--------+\n",
      "|   genre|\n",
      "+--------+\n",
      "| Romance|\n",
      "|Thriller|\n",
      "|   Drama|\n",
      "|  Horror|\n",
      "|  Comedy|\n",
      "|  Action|\n",
      "|  Sci-Fi|\n",
      "+--------+\n",
      "\n"
     ]
    }
   ],
   "source": [
    "spark.sql(\n",
    "    \"\"\"\n",
    "    SELECT \n",
    "        distinct genre\n",
    "    FROM movie_ratings\n",
    "    \"\"\"\n",
    ").show()"
   ]
  },
  {
   "cell_type": "code",
   "execution_count": 12,
   "id": "c5f67399",
   "metadata": {},
   "outputs": [
    {
     "name": "stdout",
     "output_type": "stream",
     "text": [
      "+--------+\n",
      "|   genre|\n",
      "+--------+\n",
      "| Romance|\n",
      "|Thriller|\n",
      "|   Drama|\n",
      "|  Horror|\n",
      "|  Comedy|\n",
      "|  Action|\n",
      "|  Sci-Fi|\n",
      "+--------+\n",
      "\n"
     ]
    }
   ],
   "source": [
    "df.select(\"genre\") \\\n",
    "    .distinct() \\\n",
    "    .show()"
   ]
  },
  {
   "cell_type": "markdown",
   "id": "43ba1715",
   "metadata": {},
   "source": [
    "### Count how many reviews exist for each genre."
   ]
  },
  {
   "cell_type": "code",
   "execution_count": 13,
   "id": "fab6cbe7",
   "metadata": {},
   "outputs": [
    {
     "name": "stdout",
     "output_type": "stream",
     "text": [
      "+--------+------------+\n",
      "|   genre|review_count|\n",
      "+--------+------------+\n",
      "| Romance|          11|\n",
      "|Thriller|          11|\n",
      "|   Drama|          13|\n",
      "|  Horror|          10|\n",
      "|  Comedy|           8|\n",
      "|  Action|           6|\n",
      "|  Sci-Fi|          11|\n",
      "+--------+------------+\n",
      "\n"
     ]
    }
   ],
   "source": [
    "spark.sql(\n",
    "    \"\"\"\n",
    "    SELECT\n",
    "        genre,\n",
    "        count(user_id) as review_count\n",
    "    FROM movie_ratings\n",
    "    GROUP BY genre\n",
    "    \"\"\"\n",
    ").show()"
   ]
  },
  {
   "cell_type": "code",
   "execution_count": 14,
   "id": "eb81cc00",
   "metadata": {},
   "outputs": [
    {
     "name": "stdout",
     "output_type": "stream",
     "text": [
      "+--------+------------+\n",
      "|   genre|review_count|\n",
      "+--------+------------+\n",
      "| Romance|          11|\n",
      "|Thriller|          11|\n",
      "|   Drama|          13|\n",
      "|  Horror|          10|\n",
      "|  Comedy|           8|\n",
      "|  Action|           6|\n",
      "|  Sci-Fi|          11|\n",
      "+--------+------------+\n",
      "\n"
     ]
    }
   ],
   "source": [
    "df.groupBy(\"genre\") \\\n",
    "    .agg(count(\"user_id\").alias(\"review_count\")) \\\n",
    "    .show()"
   ]
  },
  {
   "cell_type": "markdown",
   "id": "cab8aa56",
   "metadata": {},
   "source": [
    "### Find if there are any null values in the dataset."
   ]
  },
  {
   "cell_type": "code",
   "execution_count": 15,
   "id": "9e35fb98",
   "metadata": {},
   "outputs": [
    {
     "name": "stdout",
     "output_type": "stream",
     "text": [
      "[(0, 'user_id'), (0, 'movie_title'), (0, 'genre'), (0, 'rating'), (0, 'review_date')]\n"
     ]
    }
   ],
   "source": [
    "null_cnt = [(df.filter(col(c).isNull()).count(), c) for c in df.columns]\n",
    "print(null_cnt)"
   ]
  },
  {
   "cell_type": "markdown",
   "id": "98fdad23",
   "metadata": {},
   "source": [
    "## Aggregations & Grouping"
   ]
  },
  {
   "cell_type": "markdown",
   "id": "cd1b1628",
   "metadata": {},
   "source": [
    "### Calculate the average rating for each genre."
   ]
  },
  {
   "cell_type": "code",
   "execution_count": 16,
   "id": "9cb9c574",
   "metadata": {},
   "outputs": [
    {
     "name": "stdout",
     "output_type": "stream",
     "text": [
      "+--------+----------+\n",
      "|   genre|avg_rating|\n",
      "+--------+----------+\n",
      "| Romance|       4.0|\n",
      "|Thriller|      3.36|\n",
      "|   Drama|       3.0|\n",
      "|  Horror|       2.0|\n",
      "|  Comedy|      3.38|\n",
      "|  Action|       2.5|\n",
      "|  Sci-Fi|      3.27|\n",
      "+--------+----------+\n",
      "\n"
     ]
    }
   ],
   "source": [
    "spark.sql(\n",
    "    \"\"\"\n",
    "    SELECT\n",
    "        genre,\n",
    "        round(avg(rating), 2) as avg_rating\n",
    "    FROM movie_ratings\n",
    "    GROUP BY genre\n",
    "    \"\"\"\n",
    ").show()"
   ]
  },
  {
   "cell_type": "code",
   "execution_count": 17,
   "id": "47935029",
   "metadata": {},
   "outputs": [
    {
     "name": "stdout",
     "output_type": "stream",
     "text": [
      "+--------+----------+\n",
      "|   genre|avg_rating|\n",
      "+--------+----------+\n",
      "| Romance|       4.0|\n",
      "|Thriller|      3.36|\n",
      "|   Drama|       3.0|\n",
      "|  Horror|       2.0|\n",
      "|  Comedy|      3.38|\n",
      "|  Action|       2.5|\n",
      "|  Sci-Fi|      3.27|\n",
      "+--------+----------+\n",
      "\n"
     ]
    }
   ],
   "source": [
    "df.groupBy(\"genre\") \\\n",
    "    .agg(round(avg(\"rating\"), 2).alias(\"avg_rating\")) \\\n",
    "    .show()"
   ]
  },
  {
   "cell_type": "markdown",
   "id": "c44300f9",
   "metadata": {},
   "source": [
    "### Identify the top 5 highest-rated movies (average rating)."
   ]
  },
  {
   "cell_type": "code",
   "execution_count": 18,
   "id": "1bb4263d",
   "metadata": {},
   "outputs": [
    {
     "name": "stdout",
     "output_type": "stream",
     "text": [
      "+--------------+----------+\n",
      "|   movie_title|avg_rating|\n",
      "+--------------+----------+\n",
      "|   Alone above|       5.0|\n",
      "|Candidate song|       4.5|\n",
      "| Prepare phone|       4.5|\n",
      "|Response along|       4.5|\n",
      "|       Science|       4.0|\n",
      "+--------------+----------+\n",
      "\n"
     ]
    }
   ],
   "source": [
    "spark.sql(\n",
    "    \"\"\"\n",
    "    SELECT \n",
    "        movie_title,\n",
    "        avg(rating) as avg_rating\n",
    "    FROM movie_ratings\n",
    "    GROUP BY movie_title\n",
    "    ORDER BY avg_rating DESC\n",
    "    LIMIT 5\n",
    "    \"\"\"\n",
    ").show()"
   ]
  },
  {
   "cell_type": "code",
   "execution_count": 19,
   "id": "86e4d8c9",
   "metadata": {},
   "outputs": [
    {
     "name": "stdout",
     "output_type": "stream",
     "text": [
      "+--------------+----------+\n",
      "|   movie_title|avg_rating|\n",
      "+--------------+----------+\n",
      "|   Alone above|       5.0|\n",
      "|Candidate song|       4.5|\n",
      "| Prepare phone|       4.5|\n",
      "|Response along|       4.5|\n",
      "|       Science|       4.0|\n",
      "+--------------+----------+\n",
      "\n"
     ]
    }
   ],
   "source": [
    "df.groupBy(\"movie_title\") \\\n",
    "    .agg(avg(\"rating\").alias(\"avg_rating\")) \\\n",
    "    .orderBy(\"avg_rating\", ascending = False) \\\n",
    "    .limit(5) \\\n",
    "    .show()"
   ]
  },
  {
   "cell_type": "markdown",
   "id": "a5503db8",
   "metadata": {},
   "source": [
    "### Find the total number of reviews each year."
   ]
  },
  {
   "cell_type": "code",
   "execution_count": 20,
   "id": "eb19e095",
   "metadata": {},
   "outputs": [
    {
     "name": "stdout",
     "output_type": "stream",
     "text": [
      "+------------+------------+\n",
      "|release_year|review_count|\n",
      "+------------+------------+\n",
      "|        2025|           9|\n",
      "|        2024|          38|\n",
      "|        2023|          23|\n",
      "+------------+------------+\n",
      "\n"
     ]
    }
   ],
   "source": [
    "spark.sql(\n",
    "    \"\"\"\n",
    "    SELECT\n",
    "        year(review_date) as release_year,\n",
    "        count(user_id) as review_count\n",
    "    FROM movie_ratings\n",
    "    GROUP BY release_year\n",
    "    ORDER BY release_year DESC\n",
    "    \"\"\"\n",
    ").show()"
   ]
  },
  {
   "cell_type": "code",
   "execution_count": 21,
   "id": "aca09736",
   "metadata": {},
   "outputs": [
    {
     "name": "stdout",
     "output_type": "stream",
     "text": [
      "+------------+------------+\n",
      "|release_year|review_count|\n",
      "+------------+------------+\n",
      "|        2025|           9|\n",
      "|        2024|          38|\n",
      "|        2023|          23|\n",
      "+------------+------------+\n",
      "\n"
     ]
    }
   ],
   "source": [
    "df.groupBy(year(\"review_date\").alias(\"release_year\")) \\\n",
    "    .agg(count(\"user_id\").alias(\"review_count\")) \\\n",
    "    .orderBy(\"release_year\", ascending = False) \\\n",
    "    .show()"
   ]
  },
  {
   "cell_type": "markdown",
   "id": "b80fd36a",
   "metadata": {},
   "source": [
    "### Which movie received the most reviews?"
   ]
  },
  {
   "cell_type": "code",
   "execution_count": 22,
   "id": "5441b3f7",
   "metadata": {},
   "outputs": [
    {
     "name": "stdout",
     "output_type": "stream",
     "text": [
      "+--------------------+------------+\n",
      "|         movie_title|review_count|\n",
      "+--------------------+------------+\n",
      "|             May air|           6|\n",
      "|      Reach election|           4|\n",
      "|Arrive open someb...|           4|\n",
      "|               Agent|           4|\n",
      "|Respond actually ...|           4|\n",
      "|            Pressure|           4|\n",
      "|          View color|           3|\n",
      "|    Everything stand|           3|\n",
      "|      Determine meet|           3|\n",
      "|     Scene give open|           3|\n",
      "|Probably result give|           3|\n",
      "|             Science|           2|\n",
      "|              Speech|           2|\n",
      "|      Candidate song|           2|\n",
      "|          Develop at|           2|\n",
      "|Industry operatio...|           2|\n",
      "|      Ok nature race|           2|\n",
      "|       Prepare phone|           2|\n",
      "|         Learn paper|           2|\n",
      "|      Response along|           2|\n",
      "+--------------------+------------+\n",
      "only showing top 20 rows\n",
      "\n"
     ]
    }
   ],
   "source": [
    "spark.sql(\n",
    "    \"\"\"\n",
    "    SELECT\n",
    "        movie_title,\n",
    "        count(user_id) as review_count\n",
    "    FROM movie_ratings\n",
    "    GROUP BY movie_title\n",
    "    ORDER BY review_count DESC\n",
    "    \"\"\"\n",
    ").show()"
   ]
  },
  {
   "cell_type": "code",
   "execution_count": 23,
   "id": "a3fa505e",
   "metadata": {},
   "outputs": [
    {
     "name": "stdout",
     "output_type": "stream",
     "text": [
      "+--------------------+------------+\n",
      "|         movie_title|review_count|\n",
      "+--------------------+------------+\n",
      "|             May air|           6|\n",
      "|      Reach election|           4|\n",
      "|Arrive open someb...|           4|\n",
      "|               Agent|           4|\n",
      "|Respond actually ...|           4|\n",
      "|            Pressure|           4|\n",
      "|          View color|           3|\n",
      "|    Everything stand|           3|\n",
      "|      Determine meet|           3|\n",
      "|     Scene give open|           3|\n",
      "|Probably result give|           3|\n",
      "|             Science|           2|\n",
      "|              Speech|           2|\n",
      "|      Candidate song|           2|\n",
      "|          Develop at|           2|\n",
      "|Industry operatio...|           2|\n",
      "|      Ok nature race|           2|\n",
      "|       Prepare phone|           2|\n",
      "|         Learn paper|           2|\n",
      "|      Response along|           2|\n",
      "+--------------------+------------+\n",
      "only showing top 20 rows\n",
      "\n"
     ]
    }
   ],
   "source": [
    "df.groupBy(\"movie_title\") \\\n",
    "    .agg(count(\"user_id\").alias(\"review_count\")) \\\n",
    "    .orderBy(\"review_count\", ascending=False) \\\n",
    "    .show()"
   ]
  },
  {
   "cell_type": "markdown",
   "id": "af94dab2",
   "metadata": {},
   "source": [
    "### Show the distribution (count) of ratings (1-5 stars)."
   ]
  },
  {
   "cell_type": "code",
   "execution_count": 24,
   "id": "d02b833b",
   "metadata": {},
   "outputs": [
    {
     "name": "stdout",
     "output_type": "stream",
     "text": [
      "+------+------------+\n",
      "|rating|rating_count|\n",
      "+------+------------+\n",
      "|     1|          12|\n",
      "|     2|          14|\n",
      "|     3|          12|\n",
      "|     4|          18|\n",
      "|     5|          14|\n",
      "+------+------------+\n",
      "\n"
     ]
    }
   ],
   "source": [
    "spark.sql(\n",
    "    \"\"\"\n",
    "    SELECT\n",
    "        rating,\n",
    "        count(rating) as rating_count\n",
    "    FROM movie_ratings\n",
    "    GROUP BY rating\n",
    "    ORDER BY rating \n",
    "    \"\"\"\n",
    ").show()"
   ]
  },
  {
   "cell_type": "code",
   "execution_count": 25,
   "id": "0e7101dd",
   "metadata": {},
   "outputs": [
    {
     "name": "stdout",
     "output_type": "stream",
     "text": [
      "+------+------------+\n",
      "|rating|rating_count|\n",
      "+------+------------+\n",
      "|     1|          12|\n",
      "|     2|          14|\n",
      "|     3|          12|\n",
      "|     4|          18|\n",
      "|     5|          14|\n",
      "+------+------------+\n",
      "\n"
     ]
    }
   ],
   "source": [
    "df.groupBy(\"rating\") \\\n",
    "    .agg(count(\"rating\").alias(\"rating_count\")) \\\n",
    "    .orderBy(\"rating\") \\\n",
    "    .show()"
   ]
  },
  {
   "cell_type": "markdown",
   "id": "d394b3f4",
   "metadata": {},
   "source": [
    "## Insights"
   ]
  },
  {
   "cell_type": "markdown",
   "id": "7081bc22",
   "metadata": {},
   "source": [
    "### Find the average rating given by each user."
   ]
  },
  {
   "cell_type": "code",
   "execution_count": 26,
   "id": "304074b8",
   "metadata": {},
   "outputs": [
    {
     "name": "stdout",
     "output_type": "stream",
     "text": [
      "+-------+----------+\n",
      "|user_id|avg_rating|\n",
      "+-------+----------+\n",
      "|    496|       1.0|\n",
      "|    623|       1.0|\n",
      "|    879|       3.0|\n",
      "|    898|       4.0|\n",
      "|    961|       3.0|\n",
      "|    876|       5.0|\n",
      "|    375|       4.0|\n",
      "|    744|       5.0|\n",
      "|    183|       4.0|\n",
      "|    787|       2.0|\n",
      "|    577|       3.0|\n",
      "|    501|       3.0|\n",
      "|    625|       4.0|\n",
      "|    225|       4.0|\n",
      "|    190|       4.0|\n",
      "|    177|       5.0|\n",
      "|    152|       1.0|\n",
      "|    748|       4.0|\n",
      "|    182|       2.0|\n",
      "|    699|       5.0|\n",
      "+-------+----------+\n",
      "only showing top 20 rows\n",
      "\n"
     ]
    }
   ],
   "source": [
    "spark.sql(\n",
    "    \"\"\"\n",
    "    SELECT\n",
    "        user_id,\n",
    "        avg(rating) as avg_rating\n",
    "    FROM movie_ratings\n",
    "    GROUP BY user_id\n",
    "    \"\"\"\n",
    ").show()"
   ]
  },
  {
   "cell_type": "code",
   "execution_count": 27,
   "id": "7700884f",
   "metadata": {},
   "outputs": [
    {
     "name": "stdout",
     "output_type": "stream",
     "text": [
      "+-------+----------+\n",
      "|user_id|avg_rating|\n",
      "+-------+----------+\n",
      "|    496|       1.0|\n",
      "|    623|       1.0|\n",
      "|    879|       3.0|\n",
      "|    898|       4.0|\n",
      "|    961|       3.0|\n",
      "|    876|       5.0|\n",
      "|    375|       4.0|\n",
      "|    744|       5.0|\n",
      "|    183|       4.0|\n",
      "|    787|       2.0|\n",
      "|    577|       3.0|\n",
      "|    501|       3.0|\n",
      "|    625|       4.0|\n",
      "|    225|       4.0|\n",
      "|    190|       4.0|\n",
      "|    177|       5.0|\n",
      "|    152|       1.0|\n",
      "|    748|       4.0|\n",
      "|    182|       2.0|\n",
      "|    699|       5.0|\n",
      "+-------+----------+\n",
      "only showing top 20 rows\n",
      "\n"
     ]
    }
   ],
   "source": [
    "df.groupBy(\"user_id\") \\\n",
    "    .agg(avg(\"rating\").alias(\"avg_rating\")) \\\n",
    "    .show()"
   ]
  },
  {
   "cell_type": "markdown",
   "id": "a72bebf9",
   "metadata": {},
   "source": [
    "### Which genre has the highest average rating?"
   ]
  },
  {
   "cell_type": "code",
   "execution_count": 28,
   "id": "a1938b7f",
   "metadata": {},
   "outputs": [
    {
     "name": "stdout",
     "output_type": "stream",
     "text": [
      "+--------+------------------+\n",
      "|   genre|        avg_rating|\n",
      "+--------+------------------+\n",
      "| Romance|               4.0|\n",
      "|  Comedy|             3.375|\n",
      "|Thriller|3.3636363636363638|\n",
      "|  Sci-Fi| 3.272727272727273|\n",
      "|   Drama|               3.0|\n",
      "|  Action|               2.5|\n",
      "|  Horror|               2.0|\n",
      "+--------+------------------+\n",
      "\n"
     ]
    }
   ],
   "source": [
    "spark.sql(\n",
    "    \"\"\"\n",
    "    SELECT\n",
    "        genre,\n",
    "        avg(rating) as avg_rating\n",
    "    FROM movie_ratings\n",
    "    GROUP BY genre\n",
    "    ORDER BY avg_rating DESC\n",
    "    \"\"\"\n",
    ").show()"
   ]
  },
  {
   "cell_type": "code",
   "execution_count": 29,
   "id": "415ca470",
   "metadata": {},
   "outputs": [
    {
     "name": "stdout",
     "output_type": "stream",
     "text": [
      "+--------+------------------+\n",
      "|   genre|        avg_rating|\n",
      "+--------+------------------+\n",
      "| Romance|               4.0|\n",
      "|  Comedy|             3.375|\n",
      "|Thriller|3.3636363636363638|\n",
      "|  Sci-Fi| 3.272727272727273|\n",
      "|   Drama|               3.0|\n",
      "|  Action|               2.5|\n",
      "|  Horror|               2.0|\n",
      "+--------+------------------+\n",
      "\n"
     ]
    }
   ],
   "source": [
    "df.groupBy(\"genre\") \\\n",
    "    .agg(avg(\"rating\").alias(\"avg_rating\")) \\\n",
    "    .orderBy(\"avg_rating\", ascending=False) \\\n",
    "    .show()"
   ]
  },
  {
   "cell_type": "markdown",
   "id": "22ff8967",
   "metadata": {},
   "source": [
    "### Add a new column called rating_category \n",
    "Where\n",
    "\n",
    "- Rating 4 or 5 = 'Positive'\n",
    "- Rating 3 = 'Neutral'\n",
    "- Rating 1 or 2 = 'Negative'\n",
    "- Expected Output: Updated DataFrame with new column.\n"
   ]
  },
  {
   "cell_type": "code",
   "execution_count": 30,
   "id": "472e1929",
   "metadata": {},
   "outputs": [
    {
     "name": "stdout",
     "output_type": "stream",
     "text": [
      "+-------+--------------------+--------+------+-----------+---------------+\n",
      "|user_id|         movie_title|   genre|rating|review_date|rating_category|\n",
      "+-------+--------------------+--------+------+-----------+---------------+\n",
      "|    445|     Scene give open|  Comedy|     2| 2024-04-06|       Negative|\n",
      "|    870|      Ok nature race|  Sci-Fi|     4| 2024-05-03|       Positive|\n",
      "|    177|      Response along|  Sci-Fi|     5| 2024-01-25|       Positive|\n",
      "|    401|       Prepare phone| Romance|     5| 2024-09-03|       Positive|\n",
      "|    308|         Alone above|  Action|     5| 2024-10-08|       Positive|\n",
      "|    899|Industry operatio...|  Action|     1| 2023-11-26|       Negative|\n",
      "|    347|      Determine meet| Romance|     2| 2025-01-25|       Negative|\n",
      "|    314|      Reach election|  Sci-Fi|     5| 2023-07-19|       Positive|\n",
      "|    788|          View color|   Drama|     4| 2024-02-16|       Positive|\n",
      "|    426|Probably result give|  Sci-Fi|     5| 2025-01-14|       Positive|\n",
      "|    885|            Pressure|Thriller|     2| 2023-12-11|       Negative|\n",
      "|    859|             Science|  Horror|     3| 2023-06-08|        Neutral|\n",
      "|    482|            Pressure|  Action|     1| 2024-02-02|       Negative|\n",
      "|    929|              Speech|  Sci-Fi|     3| 2023-07-24|        Neutral|\n",
      "|    748|      Determine meet|Thriller|     4| 2024-12-21|       Positive|\n",
      "|    798|      Ok nature race|  Horror|     3| 2025-04-17|        Neutral|\n",
      "|    928|               Agent|   Drama|     4| 2024-04-01|       Positive|\n",
      "|    326|      Response along| Romance|     4| 2023-09-18|       Positive|\n",
      "|    197|      Candidate song|Thriller|     4| 2025-04-04|       Positive|\n",
      "|    354|Respond actually ...|  Horror|     1| 2024-02-13|       Negative|\n",
      "+-------+--------------------+--------+------+-----------+---------------+\n",
      "only showing top 20 rows\n",
      "\n"
     ]
    }
   ],
   "source": [
    "spark.sql(\n",
    "    \"\"\"\n",
    "    SELECT\n",
    "        *,\n",
    "        CASE\n",
    "            WHEN rating = 4 OR rating = 5 THEN \"Positive\"\n",
    "            WHEN rating = 3 THEN \"Neutral\"\n",
    "            WHEN rating = 1 OR rating = 2 THEN \"Negative\"\n",
    "        END as rating_category\n",
    "    FROM movie_ratings\n",
    "    \"\"\"\n",
    ").show()"
   ]
  },
  {
   "cell_type": "code",
   "execution_count": 31,
   "id": "5316e207",
   "metadata": {},
   "outputs": [
    {
     "name": "stdout",
     "output_type": "stream",
     "text": [
      "+-------+--------------------+--------+------+-----------+---------------+\n",
      "|user_id|         movie_title|   genre|rating|review_date|rating_category|\n",
      "+-------+--------------------+--------+------+-----------+---------------+\n",
      "|    445|     Scene give open|  Comedy|     2| 2024-04-06|       Negative|\n",
      "|    870|      Ok nature race|  Sci-Fi|     4| 2024-05-03|       Positive|\n",
      "|    177|      Response along|  Sci-Fi|     5| 2024-01-25|       Positive|\n",
      "|    401|       Prepare phone| Romance|     5| 2024-09-03|       Positive|\n",
      "|    308|         Alone above|  Action|     5| 2024-10-08|       Positive|\n",
      "|    899|Industry operatio...|  Action|     1| 2023-11-26|       Negative|\n",
      "|    347|      Determine meet| Romance|     2| 2025-01-25|       Negative|\n",
      "|    314|      Reach election|  Sci-Fi|     5| 2023-07-19|       Positive|\n",
      "|    788|          View color|   Drama|     4| 2024-02-16|       Positive|\n",
      "|    426|Probably result give|  Sci-Fi|     5| 2025-01-14|       Positive|\n",
      "|    885|            Pressure|Thriller|     2| 2023-12-11|       Negative|\n",
      "|    859|             Science|  Horror|     3| 2023-06-08|        Neutral|\n",
      "|    482|            Pressure|  Action|     1| 2024-02-02|       Negative|\n",
      "|    929|              Speech|  Sci-Fi|     3| 2023-07-24|        Neutral|\n",
      "|    748|      Determine meet|Thriller|     4| 2024-12-21|       Positive|\n",
      "|    798|      Ok nature race|  Horror|     3| 2025-04-17|        Neutral|\n",
      "|    928|               Agent|   Drama|     4| 2024-04-01|       Positive|\n",
      "|    326|      Response along| Romance|     4| 2023-09-18|       Positive|\n",
      "|    197|      Candidate song|Thriller|     4| 2025-04-04|       Positive|\n",
      "|    354|Respond actually ...|  Horror|     1| 2024-02-13|       Negative|\n",
      "+-------+--------------------+--------+------+-----------+---------------+\n",
      "only showing top 20 rows\n",
      "\n"
     ]
    }
   ],
   "source": [
    "df2 = df.withColumn(\n",
    "    \"rating_category\",\n",
    "    when(col(\"rating\").isin([4, 5]), \"Positive\")\n",
    "    .when(col(\"rating\") == 3, \"Neutral\")\n",
    "    .when(col(\"rating\").isin([1, 2]), \"Negative\")\n",
    ")\n",
    "df2.show()"
   ]
  },
  {
   "cell_type": "markdown",
   "id": "7012e5ae",
   "metadata": {},
   "source": [
    "### Display the number of Positive, Neutral, and Negative reviews."
   ]
  },
  {
   "cell_type": "code",
   "execution_count": 32,
   "id": "87af5e17",
   "metadata": {},
   "outputs": [],
   "source": [
    "df2.createOrReplaceTempView(\"movie_ratings_2\")"
   ]
  },
  {
   "cell_type": "code",
   "execution_count": 33,
   "id": "852b008d",
   "metadata": {},
   "outputs": [
    {
     "name": "stdout",
     "output_type": "stream",
     "text": [
      "+---------------+------------+\n",
      "|rating_category|rating_count|\n",
      "+---------------+------------+\n",
      "|       Positive|          32|\n",
      "|        Neutral|          12|\n",
      "|       Negative|          26|\n",
      "+---------------+------------+\n",
      "\n"
     ]
    }
   ],
   "source": [
    "spark.sql(\n",
    "    \"\"\"\n",
    "    SELECT\n",
    "        rating_category,\n",
    "        count(rating_category) as rating_count\n",
    "    FROM movie_ratings_2\n",
    "    GROUP BY rating_category\n",
    "    \"\"\"\n",
    ").show()"
   ]
  },
  {
   "cell_type": "code",
   "execution_count": 34,
   "id": "5a049e1c",
   "metadata": {},
   "outputs": [
    {
     "name": "stdout",
     "output_type": "stream",
     "text": [
      "+---------------+------------+\n",
      "|rating_category|rating_count|\n",
      "+---------------+------------+\n",
      "|       Positive|          32|\n",
      "|        Neutral|          12|\n",
      "|       Negative|          26|\n",
      "+---------------+------------+\n",
      "\n"
     ]
    }
   ],
   "source": [
    "df2.groupBy(\"rating_category\") \\\n",
    "    .agg(count(\"rating_category\").alias(\"rating_count\")) \\\n",
    "    .show()"
   ]
  },
  {
   "cell_type": "markdown",
   "id": "2f6f8c37",
   "metadata": {},
   "source": [
    "### Find the month with the highest number of reviews."
   ]
  },
  {
   "cell_type": "code",
   "execution_count": 35,
   "id": "7a5321d6",
   "metadata": {},
   "outputs": [
    {
     "name": "stdout",
     "output_type": "stream",
     "text": [
      "+------------+------------+\n",
      "|review_month|review_count|\n",
      "+------------+------------+\n",
      "|           1|           5|\n",
      "|           2|           8|\n",
      "|           3|           1|\n",
      "|           4|          11|\n",
      "|           5|           3|\n",
      "|           6|           2|\n",
      "|           7|           4|\n",
      "|           8|           3|\n",
      "|           9|           9|\n",
      "|          10|          11|\n",
      "|          11|           8|\n",
      "|          12|           5|\n",
      "+------------+------------+\n",
      "\n"
     ]
    }
   ],
   "source": [
    "spark.sql(\n",
    "    \"\"\"\n",
    "    SELECT \n",
    "        month(review_date) as review_month,\n",
    "        count(user_id) as review_count\n",
    "    FROM movie_ratings_2\n",
    "    GROUP BY review_month\n",
    "    ORDER BY review_month\n",
    "    \"\"\"\n",
    ").show()"
   ]
  },
  {
   "cell_type": "code",
   "execution_count": 36,
   "id": "79f3e0b3",
   "metadata": {},
   "outputs": [
    {
     "name": "stdout",
     "output_type": "stream",
     "text": [
      "+------------+------------+\n",
      "|review_month|review_count|\n",
      "+------------+------------+\n",
      "|           1|           5|\n",
      "|           2|           8|\n",
      "|           3|           1|\n",
      "|           4|          11|\n",
      "|           5|           3|\n",
      "|           6|           2|\n",
      "|           7|           4|\n",
      "|           8|           3|\n",
      "|           9|           9|\n",
      "|          10|          11|\n",
      "|          11|           8|\n",
      "|          12|           5|\n",
      "+------------+------------+\n",
      "\n"
     ]
    }
   ],
   "source": [
    "df2.groupBy(month(\"review_date\").alias(\"review_month\")) \\\n",
    "    .agg(count(\"user_id\").alias(\"review_count\")) \\\n",
    "    .orderBy(\"review_month\") \\\n",
    "    .show()"
   ]
  },
  {
   "cell_type": "markdown",
   "id": "5dbd120d",
   "metadata": {},
   "source": [
    "## Bonus"
   ]
  },
  {
   "cell_type": "markdown",
   "id": "498089f4",
   "metadata": {},
   "source": [
    "### Using SQL, find the top 3 genres with the most Positive reviews."
   ]
  },
  {
   "cell_type": "code",
   "execution_count": 37,
   "id": "ca871507",
   "metadata": {},
   "outputs": [
    {
     "name": "stdout",
     "output_type": "stream",
     "text": [
      "+--------+---------------+------------+\n",
      "|   genre|rating_category|rating_count|\n",
      "+--------+---------------+------------+\n",
      "| Romance|       Positive|           9|\n",
      "|Thriller|       Positive|           6|\n",
      "|   Drama|       Positive|           6|\n",
      "+--------+---------------+------------+\n",
      "\n"
     ]
    }
   ],
   "source": [
    "spark.sql(\n",
    "    \"\"\"\n",
    "    SELECT\n",
    "        genre,\n",
    "        rating_category,\n",
    "        count(rating_category) as rating_count\n",
    "    FROM movie_ratings_2\n",
    "    WHERE rating_category = \"Positive\"\n",
    "    GROUP BY 1, 2\n",
    "    ORDER BY rating_count DESC\n",
    "    LIMIT 3\n",
    "    \"\"\"\n",
    ").show()"
   ]
  },
  {
   "cell_type": "markdown",
   "id": "10550797",
   "metadata": {},
   "source": [
    "### Using SQL, show the number of reviews per year for each genre."
   ]
  },
  {
   "cell_type": "code",
   "execution_count": 38,
   "id": "21885739",
   "metadata": {},
   "outputs": [
    {
     "name": "stdout",
     "output_type": "stream",
     "text": [
      "+-----------+--------+------------+\n",
      "|review_year|   genre|review_count|\n",
      "+-----------+--------+------------+\n",
      "|       2025|Thriller|           3|\n",
      "|       2025| Romance|           1|\n",
      "|       2025|  Action|           1|\n",
      "|       2025|  Comedy|           1|\n",
      "|       2025|  Horror|           1|\n",
      "|       2025|  Sci-Fi|           2|\n",
      "|       2024|   Drama|          10|\n",
      "|       2024|  Horror|           6|\n",
      "|       2024|  Action|           2|\n",
      "|       2024|  Comedy|           5|\n",
      "|       2024| Romance|           4|\n",
      "|       2024|Thriller|           4|\n",
      "|       2024|  Sci-Fi|           7|\n",
      "|       2023|  Comedy|           2|\n",
      "|       2023|  Action|           3|\n",
      "|       2023|   Drama|           3|\n",
      "|       2023|  Sci-Fi|           2|\n",
      "|       2023|Thriller|           4|\n",
      "|       2023|  Horror|           3|\n",
      "|       2023| Romance|           6|\n",
      "+-----------+--------+------------+\n",
      "\n"
     ]
    }
   ],
   "source": [
    "spark.sql(\n",
    "    \"\"\"\n",
    "    SELECT\n",
    "        year(review_date) as review_year,\n",
    "        genre,\n",
    "        count(user_id) as review_count\n",
    "    FROM movie_ratings_2\n",
    "    GROUP BY 1, 2\n",
    "    ORDER BY review_year DESC\n",
    "    \"\"\"\n",
    ").show()"
   ]
  },
  {
   "cell_type": "markdown",
   "id": "1bec25f7",
   "metadata": {},
   "source": [
    "### Filter and show all Sci-Fi movies that received a 5-star rating."
   ]
  },
  {
   "cell_type": "code",
   "execution_count": 39,
   "id": "1a202419",
   "metadata": {},
   "outputs": [
    {
     "name": "stdout",
     "output_type": "stream",
     "text": [
      "+--------------------+------+------+\n",
      "|         movie_title| genre|rating|\n",
      "+--------------------+------+------+\n",
      "|      Response along|Sci-Fi|     5|\n",
      "|      Reach election|Sci-Fi|     5|\n",
      "|Probably result give|Sci-Fi|     5|\n",
      "|             Science|Sci-Fi|     5|\n",
      "+--------------------+------+------+\n",
      "\n"
     ]
    }
   ],
   "source": [
    "df2.filter((col(\"genre\") == \"Sci-Fi\") & (col(\"rating\") == 5)) \\\n",
    "    .select(\"movie_title\", \"genre\", \"rating\") \\\n",
    "    .show()"
   ]
  }
 ],
 "metadata": {
  "kernelspec": {
   "display_name": "venv",
   "language": "python",
   "name": "python3"
  },
  "language_info": {
   "codemirror_mode": {
    "name": "ipython",
    "version": 3
   },
   "file_extension": ".py",
   "mimetype": "text/x-python",
   "name": "python",
   "nbconvert_exporter": "python",
   "pygments_lexer": "ipython3",
   "version": "3.9.6"
  }
 },
 "nbformat": 4,
 "nbformat_minor": 5
}
