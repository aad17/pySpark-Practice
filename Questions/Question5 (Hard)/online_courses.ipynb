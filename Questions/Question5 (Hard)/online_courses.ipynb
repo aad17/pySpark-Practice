{
 "cells": [
  {
   "cell_type": "code",
   "execution_count": 1,
   "id": "010bb257",
   "metadata": {},
   "outputs": [],
   "source": [
    "import pyspark\n",
    "from pyspark.sql import SparkSession\n",
    "from pyspark.sql import functions as F\n",
    "from pyspark.sql import Window"
   ]
  },
  {
   "cell_type": "code",
   "execution_count": 2,
   "id": "f22510db",
   "metadata": {},
   "outputs": [
    {
     "name": "stdout",
     "output_type": "stream",
     "text": [
      "3.5.5\n"
     ]
    }
   ],
   "source": [
    "print(pyspark.__version__)"
   ]
  },
  {
   "cell_type": "code",
   "execution_count": 3,
   "id": "f4e80131",
   "metadata": {},
   "outputs": [
    {
     "name": "stderr",
     "output_type": "stream",
     "text": [
      "25/05/14 12:33:14 WARN Utils: Your hostname, Ameys-Mac-mini.local resolves to a loopback address: 127.0.0.1; using 192.168.1.10 instead (on interface en1)\n",
      "25/05/14 12:33:14 WARN Utils: Set SPARK_LOCAL_IP if you need to bind to another address\n",
      "Setting default log level to \"WARN\".\n",
      "To adjust logging level use sc.setLogLevel(newLevel). For SparkR, use setLogLevel(newLevel).\n",
      "25/05/14 12:33:14 WARN NativeCodeLoader: Unable to load native-hadoop library for your platform... using builtin-java classes where applicable\n"
     ]
    }
   ],
   "source": [
    "spark = SparkSession.builder \\\n",
    "    .appName(\"online_courses\") \\\n",
    "    .master(\"local[*]\") \\\n",
    "    .getOrCreate()"
   ]
  },
  {
   "cell_type": "code",
   "execution_count": 4,
   "id": "e7d23817",
   "metadata": {},
   "outputs": [],
   "source": [
    "students_df = spark.read.csv(\"students.csv\", header=True, inferSchema=True)\n",
    "courses_df = spark.read.csv(\"courses.csv\", header=True, inferSchema=True)\n",
    "instructors_df = spark.read.csv(\"instructors.csv\", header=True, inferSchema=True)\n",
    "enrollments_df = spark.read.csv(\"enrollments.csv\", header=True, inferSchema=True)\n",
    "reviews_df = spark.read.csv(\"reviews.csv\", header=True, inferSchema=True)"
   ]
  },
  {
   "cell_type": "code",
   "execution_count": 5,
   "id": "6085d2f0",
   "metadata": {},
   "outputs": [],
   "source": [
    "students_df.createOrReplaceTempView(\"students\")\n",
    "courses_df.createOrReplaceTempView(\"courses\")\n",
    "instructors_df.createOrReplaceTempView(\"instructors\")\n",
    "enrollments_df.createOrReplaceTempView(\"enrollments\")\n",
    "reviews_df.createOrReplaceTempView(\"reviews\")"
   ]
  },
  {
   "cell_type": "code",
   "execution_count": 6,
   "id": "3483f066",
   "metadata": {},
   "outputs": [
    {
     "name": "stdout",
     "output_type": "stream",
     "text": [
      "root\n",
      " |-- student_id: integer (nullable = true)\n",
      " |-- student_name: string (nullable = true)\n",
      " |-- email: string (nullable = true)\n",
      " |-- country: string (nullable = true)\n",
      "\n"
     ]
    }
   ],
   "source": [
    "students_df.printSchema()"
   ]
  },
  {
   "cell_type": "code",
   "execution_count": 7,
   "id": "b0f726d4",
   "metadata": {},
   "outputs": [
    {
     "name": "stdout",
     "output_type": "stream",
     "text": [
      "root\n",
      " |-- course_id: integer (nullable = true)\n",
      " |-- course_title: string (nullable = true)\n",
      " |-- category: string (nullable = true)\n",
      " |-- price: integer (nullable = true)\n",
      " |-- instructor_id: integer (nullable = true)\n",
      "\n"
     ]
    }
   ],
   "source": [
    "courses_df.printSchema()"
   ]
  },
  {
   "cell_type": "code",
   "execution_count": 8,
   "id": "1a04fb88",
   "metadata": {},
   "outputs": [
    {
     "name": "stdout",
     "output_type": "stream",
     "text": [
      "root\n",
      " |-- instructor_id: integer (nullable = true)\n",
      " |-- instructor_name: string (nullable = true)\n",
      " |-- specialization: string (nullable = true)\n",
      " |-- years_of_experience: integer (nullable = true)\n",
      "\n"
     ]
    }
   ],
   "source": [
    "instructors_df.printSchema()"
   ]
  },
  {
   "cell_type": "code",
   "execution_count": 9,
   "id": "193ffa61",
   "metadata": {},
   "outputs": [
    {
     "name": "stdout",
     "output_type": "stream",
     "text": [
      "root\n",
      " |-- enrollment_id: integer (nullable = true)\n",
      " |-- student_id: integer (nullable = true)\n",
      " |-- course_id: integer (nullable = true)\n",
      " |-- enrollment_date: date (nullable = true)\n",
      " |-- progress_percent: integer (nullable = true)\n",
      "\n"
     ]
    }
   ],
   "source": [
    "enrollments_df.printSchema()"
   ]
  },
  {
   "cell_type": "code",
   "execution_count": 10,
   "id": "5515b940",
   "metadata": {},
   "outputs": [
    {
     "name": "stdout",
     "output_type": "stream",
     "text": [
      "root\n",
      " |-- review_id: integer (nullable = true)\n",
      " |-- student_id: integer (nullable = true)\n",
      " |-- course_id: integer (nullable = true)\n",
      " |-- rating: integer (nullable = true)\n",
      " |-- review_date: date (nullable = true)\n",
      " |-- comment: string (nullable = true)\n",
      "\n"
     ]
    }
   ],
   "source": [
    "reviews_df.printSchema()"
   ]
  },
  {
   "cell_type": "markdown",
   "id": "7bb2fdea",
   "metadata": {},
   "source": [
    "### Which students have enrolled in more than 3 courses?"
   ]
  },
  {
   "cell_type": "code",
   "execution_count": 11,
   "id": "3c17de07",
   "metadata": {},
   "outputs": [
    {
     "name": "stdout",
     "output_type": "stream",
     "text": [
      "+----------+------------------+-----------+\n",
      "|student_id|      student_name|num_courses|\n",
      "+----------+------------------+-----------+\n",
      "|        41|       Mary French|          4|\n",
      "|        32|       Leah Travis|          4|\n",
      "|        33|Jennifer Hernandez|          4|\n",
      "|        48|       Dale Dodson|          5|\n",
      "+----------+------------------+-----------+\n",
      "\n"
     ]
    }
   ],
   "source": [
    "spark.sql(\n",
    "    \"\"\"\n",
    "    SELECT\n",
    "        e.student_id,\n",
    "        s.student_name,\n",
    "        count(distinct e.course_id) as num_courses\n",
    "    FROM enrollments e\n",
    "    JOIN students s \n",
    "    USING (student_id)\n",
    "    GROUP BY 1, 2\n",
    "    HAVING count(distinct course_id) > 3\n",
    "    \"\"\"\n",
    ").show()"
   ]
  },
  {
   "cell_type": "code",
   "execution_count": 12,
   "id": "afbd2581",
   "metadata": {},
   "outputs": [
    {
     "name": "stdout",
     "output_type": "stream",
     "text": [
      "+----------+------------------+-----------+\n",
      "|student_id|      student_name|num_courses|\n",
      "+----------+------------------+-----------+\n",
      "|        41|       Mary French|          4|\n",
      "|        32|       Leah Travis|          4|\n",
      "|        33|Jennifer Hernandez|          4|\n",
      "|        48|       Dale Dodson|          5|\n",
      "+----------+------------------+-----------+\n",
      "\n"
     ]
    }
   ],
   "source": [
    "joined = enrollments_df.join(\n",
    "    students_df,\n",
    "    on=\"student_id\",\n",
    "    how=\"inner\"\n",
    ")\n",
    "\n",
    "joined.groupBy(\"student_id\", \"student_name\") \\\n",
    "    .agg(F.countDistinct(\"course_id\").alias(\"num_courses\")) \\\n",
    "    .filter(F.col(\"num_courses\") > 3) \\\n",
    "    .show()\n"
   ]
  },
  {
   "cell_type": "markdown",
   "id": "0fbe3477",
   "metadata": {},
   "source": [
    "### Which instructor has the highest average rating across all their courses?"
   ]
  },
  {
   "cell_type": "code",
   "execution_count": 13,
   "id": "df01c384",
   "metadata": {},
   "outputs": [
    {
     "name": "stdout",
     "output_type": "stream",
     "text": [
      "+-------------+---------------+----------+\n",
      "|instructor_id|instructor_name|avg_rating|\n",
      "+-------------+---------------+----------+\n",
      "|            3| Samantha Price|      4.33|\n",
      "|            9|  Jean Williams|       4.0|\n",
      "|            7|   Shane Wilcox|       3.5|\n",
      "|            1|  Angela Martin|      3.33|\n",
      "|            4|    Mary Kelley|      3.23|\n",
      "|           10|    Adam Barton|      3.14|\n",
      "|            2|     Erica Hill|       3.0|\n",
      "|            5|   Carmen Mcgee|      2.75|\n",
      "|            8| Matthew Orozco|       2.5|\n",
      "+-------------+---------------+----------+\n",
      "\n"
     ]
    }
   ],
   "source": [
    "spark.sql(\n",
    "    \"\"\"\n",
    "    SELECT\n",
    "        c.instructor_id,\n",
    "        i.instructor_name,\n",
    "        ROUND(AVG(r.rating), 2) as avg_rating\n",
    "    FROM reviews r\n",
    "    JOIN courses c\n",
    "    USING (course_id)\n",
    "    JOIN instructors i\n",
    "    USING (instructor_id)\n",
    "    GROUP BY 1, 2\n",
    "    ORDER BY avg_rating DESC\n",
    "    \"\"\"\n",
    ").show()"
   ]
  },
  {
   "cell_type": "code",
   "execution_count": 14,
   "id": "39543b0f",
   "metadata": {},
   "outputs": [
    {
     "name": "stdout",
     "output_type": "stream",
     "text": [
      "+-------------+---------------+----------+\n",
      "|instructor_id|instructor_name|avg_rating|\n",
      "+-------------+---------------+----------+\n",
      "|            3| Samantha Price|      4.33|\n",
      "|            9|  Jean Williams|       4.0|\n",
      "|            7|   Shane Wilcox|       3.5|\n",
      "|            1|  Angela Martin|      3.33|\n",
      "|            4|    Mary Kelley|      3.23|\n",
      "|           10|    Adam Barton|      3.14|\n",
      "|            2|     Erica Hill|       3.0|\n",
      "|            5|   Carmen Mcgee|      2.75|\n",
      "|            8| Matthew Orozco|       2.5|\n",
      "+-------------+---------------+----------+\n",
      "\n"
     ]
    }
   ],
   "source": [
    "joined = reviews_df.join(\n",
    "    courses_df,\n",
    "    on=\"course_id\",\n",
    "    how=\"inner\"\n",
    ").join(\n",
    "    instructors_df,\n",
    "    on=\"instructor_id\",\n",
    "    how=\"inner\"\n",
    ")\n",
    "\n",
    "joined.groupBy(\"instructor_id\", \"instructor_name\") \\\n",
    "    .agg(F.round(F.avg(\"rating\"), 2).alias(\"avg_rating\")) \\\n",
    "    .orderBy(F.col(\"avg_rating\").desc()) \\\n",
    "    .show()"
   ]
  },
  {
   "cell_type": "markdown",
   "id": "f421f672",
   "metadata": {},
   "source": [
    "### What is the average rating for each course category? (Tech, Business, Design)"
   ]
  },
  {
   "cell_type": "code",
   "execution_count": 15,
   "id": "7dbab2a4",
   "metadata": {},
   "outputs": [
    {
     "name": "stdout",
     "output_type": "stream",
     "text": [
      "+--------+----------+\n",
      "|category|avg_rating|\n",
      "+--------+----------+\n",
      "|    Tech|      3.32|\n",
      "|  Design|      3.21|\n",
      "|Business|      3.09|\n",
      "+--------+----------+\n",
      "\n"
     ]
    }
   ],
   "source": [
    "spark.sql(\n",
    "    \"\"\"\n",
    "    SELECT\n",
    "        c.category,\n",
    "        ROUND(AVG(r.rating), 2) AS avg_rating\n",
    "    FROM reviews r\n",
    "    JOIN courses c\n",
    "    USING (course_id)\n",
    "    GROUP BY 1\n",
    "    \"\"\"\n",
    ").show()"
   ]
  },
  {
   "cell_type": "code",
   "execution_count": 16,
   "id": "96d4ef74",
   "metadata": {},
   "outputs": [
    {
     "name": "stdout",
     "output_type": "stream",
     "text": [
      "+--------+----------+\n",
      "|category|avg_rating|\n",
      "+--------+----------+\n",
      "|    Tech|      3.32|\n",
      "|  Design|      3.21|\n",
      "|Business|      3.09|\n",
      "+--------+----------+\n",
      "\n"
     ]
    }
   ],
   "source": [
    "joined = reviews_df.join(\n",
    "    courses_df,\n",
    "    on=\"course_id\",\n",
    "    how=\"inner\"\n",
    ")\n",
    "\n",
    "joined.groupBy(\"category\") \\\n",
    "    .agg(F.round(F.avg(\"rating\"), 2).alias(\"avg_rating\")) \\\n",
    "    .show()"
   ]
  },
  {
   "cell_type": "markdown",
   "id": "63d8d25d",
   "metadata": {},
   "source": [
    "### Find the top 5 most popular courses (by number of enrollments)."
   ]
  },
  {
   "cell_type": "code",
   "execution_count": 17,
   "id": "f812e2df",
   "metadata": {},
   "outputs": [
    {
     "name": "stdout",
     "output_type": "stream",
     "text": [
      "+---------+--------------------+-----------+\n",
      "|course_id|        course_title|enrollments|\n",
      "+---------+--------------------+-----------+\n",
      "|        7|Team-oriented nex...|          8|\n",
      "|        6|Progressive homog...|          7|\n",
      "|       18|Configurable reci...|          7|\n",
      "|        4|Switchable neutra...|          6|\n",
      "|        1|   Enhanced 24/7 hub|          6|\n",
      "|       17|Cloned optimizing...|          6|\n",
      "|        8|User-centric comp...|          6|\n",
      "|       19|Optimized object-...|          6|\n",
      "|       15|Up-sized stable a...|          5|\n",
      "|       13|Fully-configurabl...|          5|\n",
      "|       12|Sharable secondar...|          5|\n",
      "|        2|Ameliorated 4thge...|          4|\n",
      "|       14|Streamlined eco-c...|          4|\n",
      "|       10|Open-architected ...|          4|\n",
      "|       20|Persevering conte...|          4|\n",
      "|       11|Multi-tiered exec...|          3|\n",
      "|       16|User-centric real...|          3|\n",
      "|        5|Pre-emptive recip...|          3|\n",
      "|        3|Front-line intera...|          3|\n",
      "|        9|Switchable empowe...|          1|\n",
      "+---------+--------------------+-----------+\n",
      "\n"
     ]
    }
   ],
   "source": [
    "spark.sql(\n",
    "    \"\"\"\n",
    "    SELECT\n",
    "        e.course_id,\n",
    "        c.course_title,\n",
    "        count(distinct e.student_id) as enrollments\n",
    "    FROM enrollments e\n",
    "    JOIN courses c\n",
    "    USING (course_id)\n",
    "    GROUP BY 1, 2\n",
    "    ORDER BY enrollments DESC\n",
    "    \"\"\"\n",
    ").show()"
   ]
  },
  {
   "cell_type": "code",
   "execution_count": 18,
   "id": "2644af89",
   "metadata": {},
   "outputs": [
    {
     "name": "stdout",
     "output_type": "stream",
     "text": [
      "+---------+--------------------+-----------+\n",
      "|course_id|        course_title|enrollments|\n",
      "+---------+--------------------+-----------+\n",
      "|        7|Team-oriented nex...|          8|\n",
      "|        6|Progressive homog...|          7|\n",
      "|       18|Configurable reci...|          7|\n",
      "|        4|Switchable neutra...|          6|\n",
      "|        1|   Enhanced 24/7 hub|          6|\n",
      "|       17|Cloned optimizing...|          6|\n",
      "|        8|User-centric comp...|          6|\n",
      "|       19|Optimized object-...|          6|\n",
      "|       15|Up-sized stable a...|          5|\n",
      "|       13|Fully-configurabl...|          5|\n",
      "|       12|Sharable secondar...|          5|\n",
      "|        2|Ameliorated 4thge...|          4|\n",
      "|       14|Streamlined eco-c...|          4|\n",
      "|       10|Open-architected ...|          4|\n",
      "|       20|Persevering conte...|          4|\n",
      "|       11|Multi-tiered exec...|          3|\n",
      "|       16|User-centric real...|          3|\n",
      "|        5|Pre-emptive recip...|          3|\n",
      "|        3|Front-line intera...|          3|\n",
      "|        9|Switchable empowe...|          1|\n",
      "+---------+--------------------+-----------+\n",
      "\n"
     ]
    }
   ],
   "source": [
    "joined = enrollments_df.join(\n",
    "    courses_df,\n",
    "    on=\"course_id\",\n",
    "    how=\"inner\"\n",
    ")\n",
    "\n",
    "joined.groupBy(\"course_id\", \"course_title\") \\\n",
    "    .agg(F.countDistinct(\"student_id\").alias(\"enrollments\")) \\\n",
    "    .orderBy(F.col(\"enrollments\").desc()) \\\n",
    "    .show()"
   ]
  },
  {
   "cell_type": "markdown",
   "id": "dc11c8ec",
   "metadata": {},
   "source": [
    "### Which students have completed more than 80% in all the courses they enrolled in?"
   ]
  },
  {
   "cell_type": "code",
   "execution_count": 19,
   "id": "12370889",
   "metadata": {},
   "outputs": [
    {
     "name": "stdout",
     "output_type": "stream",
     "text": [
      "+----------+-------------+\n",
      "|student_id| student_name|\n",
      "+----------+-------------+\n",
      "|         5|  John Hughes|\n",
      "|        15|Brian Morales|\n",
      "|        17| Mary Wheeler|\n",
      "|        18|Judith Church|\n",
      "|        28|  Julie Smith|\n",
      "|        31|   Sarah Sims|\n",
      "+----------+-------------+\n",
      "\n"
     ]
    }
   ],
   "source": [
    "spark.sql(\n",
    "    \"\"\"\n",
    "    with cte as (\n",
    "        SELECT\n",
    "        DISTINCT\n",
    "            e.student_id,\n",
    "            s.student_name,\n",
    "            AVG(e.progress_percent) over (PARTITION BY e.student_id) as avg_progress\n",
    "        FROM enrollments e\n",
    "        JOIN students s\n",
    "        USING (student_id)\n",
    "    )\n",
    "    SELECT\n",
    "        student_id,\n",
    "        student_name\n",
    "    FROM cte\n",
    "    WHERE avg_progress >= 80\n",
    "    \"\"\"\n",
    ").show()"
   ]
  },
  {
   "cell_type": "code",
   "execution_count": 20,
   "id": "83f82319",
   "metadata": {},
   "outputs": [
    {
     "name": "stdout",
     "output_type": "stream",
     "text": [
      "+----------+-------------+\n",
      "|student_id| student_name|\n",
      "+----------+-------------+\n",
      "|         5|  John Hughes|\n",
      "|        15|Brian Morales|\n",
      "|        17| Mary Wheeler|\n",
      "|        18|Judith Church|\n",
      "|        28|  Julie Smith|\n",
      "|        31|   Sarah Sims|\n",
      "+----------+-------------+\n",
      "\n"
     ]
    }
   ],
   "source": [
    "window_spec = Window.partitionBy(\"student_id\")\n",
    "\n",
    "joined = enrollments_df.join(\n",
    "    students_df,\n",
    "    on=\"student_id\",\n",
    "    how=\"inner\"\n",
    ")\n",
    "\n",
    "windowed_df = joined.withColumn(\n",
    "    \"avg_progress\",\n",
    "    F.avg(\"progress_percent\").over(window_spec)\n",
    ").select(\n",
    "    \"student_id\",\n",
    "    \"student_name\"\n",
    ")\n",
    "\n",
    "filtered_df = windowed_df.filter(\n",
    "    F.col(\"avg_progress\") >= 80\n",
    ").distinct().show()"
   ]
  },
  {
   "cell_type": "markdown",
   "id": "1dff14bf",
   "metadata": {},
   "source": [
    "### List all instructors and the number of unique students they’ve taught."
   ]
  },
  {
   "cell_type": "code",
   "execution_count": 21,
   "id": "825ee667",
   "metadata": {},
   "outputs": [
    {
     "name": "stdout",
     "output_type": "stream",
     "text": [
      "+-------------+---------------+-------------+\n",
      "|instructor_id|instructor_name|student_count|\n",
      "+-------------+---------------+-------------+\n",
      "|            4|    Mary Kelley|           16|\n",
      "|            1|  Angela Martin|           14|\n",
      "|            7|   Shane Wilcox|            7|\n",
      "|            8| Matthew Orozco|           10|\n",
      "|            3| Samantha Price|            3|\n",
      "|           10|    Adam Barton|           14|\n",
      "|            5|   Carmen Mcgee|            6|\n",
      "|            9|  Jean Williams|            4|\n",
      "|            2|     Erica Hill|           15|\n",
      "+-------------+---------------+-------------+\n",
      "\n"
     ]
    }
   ],
   "source": [
    "spark.sql(\n",
    "    \"\"\"\n",
    "    SELECT\n",
    "        i.instructor_id,\n",
    "        i.instructor_name,\n",
    "        COUNT(DISTINCT e.student_id) AS student_count\n",
    "    FROM instructors i\n",
    "    JOIN courses c\n",
    "    USING (instructor_id)\n",
    "    JOIN enrollments e\n",
    "    USING (course_id)\n",
    "    GROUP BY 1, 2\n",
    "    \"\"\"\n",
    ").show()"
   ]
  },
  {
   "cell_type": "code",
   "execution_count": 22,
   "id": "c9dd8cc4",
   "metadata": {},
   "outputs": [
    {
     "name": "stdout",
     "output_type": "stream",
     "text": [
      "+-------------+---------------+-------------+\n",
      "|instructor_id|instructor_name|student_count|\n",
      "+-------------+---------------+-------------+\n",
      "|            4|    Mary Kelley|           16|\n",
      "|            1|  Angela Martin|           14|\n",
      "|            7|   Shane Wilcox|            7|\n",
      "|            8| Matthew Orozco|           10|\n",
      "|            3| Samantha Price|            3|\n",
      "|           10|    Adam Barton|           14|\n",
      "|            5|   Carmen Mcgee|            6|\n",
      "|            9|  Jean Williams|            4|\n",
      "|            2|     Erica Hill|           15|\n",
      "+-------------+---------------+-------------+\n",
      "\n"
     ]
    }
   ],
   "source": [
    "joined = instructors_df.join(\n",
    "    courses_df,\n",
    "    on=\"instructor_id\",\n",
    "    how=\"inner\"\n",
    ").join(\n",
    "    enrollments_df,\n",
    "    on=\"course_id\",\n",
    "    how=\"inner\"\n",
    ")\n",
    "\n",
    "joined.groupBy(\"instructor_id\", \"instructor_name\") \\\n",
    "    .agg(F.countDistinct(\"student_id\").alias(\"student_count\")) \\\n",
    "    .show()"
   ]
  },
  {
   "cell_type": "markdown",
   "id": "cad2ce93",
   "metadata": {},
   "source": [
    "### For each country, find the average student progress across all courses."
   ]
  },
  {
   "cell_type": "code",
   "execution_count": 23,
   "id": "46bdb892",
   "metadata": {},
   "outputs": [
    {
     "name": "stdout",
     "output_type": "stream",
     "text": [
      "+--------------------+------------------+\n",
      "|             country|      avg_progress|\n",
      "+--------------------+------------------+\n",
      "|            Anguilla|              59.0|\n",
      "|               Macao|              83.5|\n",
      "|              Guyana|              75.5|\n",
      "|      Norfolk Island|              70.0|\n",
      "|                Fiji|              26.0|\n",
      "|United States Vir...|              99.0|\n",
      "|             Germany|              62.0|\n",
      "|         Afghanistan|             47.25|\n",
      "|              Rwanda|              66.0|\n",
      "|               Sudan|              61.0|\n",
      "|Holy See (Vatican...|              66.0|\n",
      "|           Sri Lanka|              NULL|\n",
      "|            Dominica|              35.0|\n",
      "|   Equatorial Guinea| 77.83333333333333|\n",
      "|             Algeria|              32.5|\n",
      "|           Argentina|             59.75|\n",
      "|             Lesotho|56.333333333333336|\n",
      "|       New Caledonia|              53.0|\n",
      "|               Benin|              10.0|\n",
      "|        Sierra Leone|              NULL|\n",
      "+--------------------+------------------+\n",
      "only showing top 20 rows\n",
      "\n"
     ]
    }
   ],
   "source": [
    "spark.sql(\n",
    "    \"\"\"\n",
    "    SELECT\n",
    "        s.country,\n",
    "        avg(e.progress_percent) as avg_progress\n",
    "    FROM students s\n",
    "    LEFT JOIN enrollments e\n",
    "    USING (student_id)\n",
    "    GROUP BY 1\n",
    "    \"\"\"\n",
    ").show()"
   ]
  },
  {
   "cell_type": "markdown",
   "id": "de7a6777",
   "metadata": {},
   "source": [
    "### Rank courses within each category by average rating using window functions."
   ]
  },
  {
   "cell_type": "code",
   "execution_count": 24,
   "id": "86f7a3dc",
   "metadata": {},
   "outputs": [
    {
     "name": "stdout",
     "output_type": "stream",
     "text": [
      "+---------+--------------------+--------+------------------+---+\n",
      "|course_id|        course_title|category|        avg_rating|rnk|\n",
      "+---------+--------------------+--------+------------------+---+\n",
      "|       20|Persevering conte...|Business|               4.0|  1|\n",
      "|       14|Streamlined eco-c...|Business|               3.5|  2|\n",
      "|       11|Multi-tiered exec...|Business|3.3333333333333335|  3|\n",
      "|       12|Sharable secondar...|Business|               2.8|  4|\n",
      "|        8|User-centric comp...|Business|2.6666666666666665|  5|\n",
      "|       13|Fully-configurabl...|Business|1.6666666666666667|  6|\n",
      "|        5|Pre-emptive recip...|  Design| 4.333333333333333|  1|\n",
      "|        2|Ameliorated 4thge...|  Design|              3.75|  2|\n",
      "|       15|Up-sized stable a...|  Design|3.6666666666666665|  3|\n",
      "|       18|Configurable reci...|  Design|               3.5|  4|\n",
      "|        7|Team-oriented nex...|  Design|              3.25|  5|\n",
      "|        4|Switchable neutra...|  Design|               3.0|  6|\n",
      "|        1|   Enhanced 24/7 hub|  Design|              2.75|  7|\n",
      "|       10|Open-architected ...|  Design|2.3333333333333335|  8|\n",
      "|       19|Optimized object-...|    Tech|               4.0|  1|\n",
      "|        6|Progressive homog...|    Tech|3.6666666666666665|  2|\n",
      "|       16|User-centric real...|    Tech|               3.4|  3|\n",
      "|        9|Switchable empowe...|    Tech|               3.0|  4|\n",
      "|       17|Cloned optimizing...|    Tech|               1.0|  5|\n",
      "|        3|Front-line intera...|Business|              NULL|  7|\n",
      "+---------+--------------------+--------+------------------+---+\n",
      "\n"
     ]
    }
   ],
   "source": [
    "spark.sql(\n",
    "    \"\"\"\n",
    "    SELECT\n",
    "    distinct\n",
    "        c.course_id,\n",
    "        c.course_title,\n",
    "        c.category,\n",
    "        AVG(r.rating) over(PARTITION BY c.course_id) as avg_rating,\n",
    "        dense_rank() over(PARTITION BY c.category ORDER BY AVG(r.rating) over(PARTITION BY c.course_id) DESC) as rnk\n",
    "    FROM courses c\n",
    "    LEFT JOIN reviews r\n",
    "    USING (course_id)\n",
    "    \"\"\"\n",
    ").show()"
   ]
  },
  {
   "cell_type": "code",
   "execution_count": 25,
   "id": "ee86f130",
   "metadata": {},
   "outputs": [
    {
     "name": "stdout",
     "output_type": "stream",
     "text": [
      "+---------+--------------------+--------+------------------+---+\n",
      "|course_id|        course_title|category|        avg_rating|rnk|\n",
      "+---------+--------------------+--------+------------------+---+\n",
      "|       20|Persevering conte...|Business|               4.0|  1|\n",
      "|       14|Streamlined eco-c...|Business|               3.5|  2|\n",
      "|       11|Multi-tiered exec...|Business|3.3333333333333335|  3|\n",
      "|       12|Sharable secondar...|Business|               2.8|  4|\n",
      "|        8|User-centric comp...|Business|2.6666666666666665|  5|\n",
      "|       13|Fully-configurabl...|Business|1.6666666666666667|  6|\n",
      "|        5|Pre-emptive recip...|  Design| 4.333333333333333|  1|\n",
      "|        2|Ameliorated 4thge...|  Design|              3.75|  2|\n",
      "|       15|Up-sized stable a...|  Design|3.6666666666666665|  3|\n",
      "|       18|Configurable reci...|  Design|               3.5|  4|\n",
      "|        7|Team-oriented nex...|  Design|              3.25|  5|\n",
      "|        4|Switchable neutra...|  Design|               3.0|  6|\n",
      "|        1|   Enhanced 24/7 hub|  Design|              2.75|  7|\n",
      "|       10|Open-architected ...|  Design|2.3333333333333335|  8|\n",
      "|       19|Optimized object-...|    Tech|               4.0|  1|\n",
      "|        6|Progressive homog...|    Tech|3.6666666666666665|  2|\n",
      "|       16|User-centric real...|    Tech|               3.4|  3|\n",
      "|        9|Switchable empowe...|    Tech|               3.0|  4|\n",
      "|       17|Cloned optimizing...|    Tech|               1.0|  5|\n",
      "|        3|Front-line intera...|Business|              NULL|  7|\n",
      "+---------+--------------------+--------+------------------+---+\n",
      "\n"
     ]
    }
   ],
   "source": [
    "window_spec_1 = Window.partitionBy(\"course_id\")\n",
    "window_spec_2 = Window.partitionBy(\"category\").orderBy(F.avg(\"rating\").over(window_spec_1).desc())\n",
    "\n",
    "joined = courses_df.join(\n",
    "    reviews_df,\n",
    "    on=\"course_id\",\n",
    "    how=\"left\"\n",
    ")\n",
    "\n",
    "joined.select(\n",
    "    \"course_id\",\n",
    "    \"course_title\",\n",
    "    \"category\",\n",
    "    F.avg(\"rating\").over(window_spec_1).alias(\"avg_rating\"),\n",
    "    F.dense_rank().over(window_spec_2).alias(\"rnk\")\n",
    ").distinct().show()"
   ]
  },
  {
   "cell_type": "markdown",
   "id": "7bec2e22",
   "metadata": {},
   "source": [
    "### Get the latest review per student per course using ROW_NUMBER."
   ]
  },
  {
   "cell_type": "code",
   "execution_count": 26,
   "id": "f4490050",
   "metadata": {},
   "outputs": [
    {
     "name": "stdout",
     "output_type": "stream",
     "text": [
      "+----------+---------+------+-----------+\n",
      "|student_id|course_id|rating|review_date|\n",
      "+----------+---------+------+-----------+\n",
      "|         1|        4|     2| 2024-11-05|\n",
      "|         1|        8|     5| 2024-09-12|\n",
      "|         1|       13|     1| 2023-10-09|\n",
      "|         1|       20|     4| 2023-07-05|\n",
      "|         2|        6|     2| 2024-11-03|\n",
      "|         2|       20|     5| 2024-10-27|\n",
      "|         4|        1|     4| 2025-02-22|\n",
      "|         4|        2|     5| 2024-03-08|\n",
      "|         4|        9|     2| 2024-11-17|\n",
      "|         4|       14|     1| 2023-05-07|\n",
      "|         6|        1|     4| 2023-10-03|\n",
      "|         6|        4|     4| 2024-05-09|\n",
      "|         6|       18|     4| 2025-01-08|\n",
      "|         8|        9|     3| 2024-07-31|\n",
      "|         8|       16|     2| 2024-12-01|\n",
      "|         9|        4|     3| 2023-11-16|\n",
      "|         9|        6|     4| 2025-03-18|\n",
      "|        12|        1|     1| 2025-04-01|\n",
      "|        12|        8|     2| 2023-08-30|\n",
      "|        13|       12|     2| 2023-11-11|\n",
      "+----------+---------+------+-----------+\n",
      "only showing top 20 rows\n",
      "\n"
     ]
    }
   ],
   "source": [
    "spark.sql(\n",
    "    \"\"\"\n",
    "    with cte as (\n",
    "        SELECT\n",
    "            student_id,\n",
    "            course_id,\n",
    "            rating,\n",
    "            review_date,\n",
    "            ROW_NUMBER() OVER (PARTITION BY student_id, course_id ORDER BY review_date DESC) as rnk\n",
    "        FROM reviews\n",
    "    )\n",
    "    SELECT\n",
    "        student_id,\n",
    "        course_id,\n",
    "        rating,\n",
    "        review_date\n",
    "    FROM cte\n",
    "    WHERE rnk = 1\n",
    "    \"\"\"\n",
    ").show()"
   ]
  },
  {
   "cell_type": "code",
   "execution_count": 27,
   "id": "24652992",
   "metadata": {},
   "outputs": [
    {
     "name": "stdout",
     "output_type": "stream",
     "text": [
      "+----------+---------+------+-----------+\n",
      "|student_id|course_id|rating|review_date|\n",
      "+----------+---------+------+-----------+\n",
      "|         1|        4|     2| 2024-11-05|\n",
      "|         1|        8|     5| 2024-09-12|\n",
      "|         1|       13|     1| 2023-10-09|\n",
      "|         1|       20|     4| 2023-07-05|\n",
      "|         2|        6|     2| 2024-11-03|\n",
      "|         2|       20|     5| 2024-10-27|\n",
      "|         4|        1|     4| 2025-02-22|\n",
      "|         4|        2|     5| 2024-03-08|\n",
      "|         4|        9|     2| 2024-11-17|\n",
      "|         4|       14|     1| 2023-05-07|\n",
      "|         6|        1|     4| 2023-10-03|\n",
      "|         6|        4|     4| 2024-05-09|\n",
      "|         6|       18|     4| 2025-01-08|\n",
      "|         8|        9|     3| 2024-07-31|\n",
      "|         8|       16|     2| 2024-12-01|\n",
      "|         9|        4|     3| 2023-11-16|\n",
      "|         9|        6|     4| 2025-03-18|\n",
      "|        12|        1|     1| 2025-04-01|\n",
      "|        12|        8|     2| 2023-08-30|\n",
      "|        13|       12|     2| 2023-11-11|\n",
      "+----------+---------+------+-----------+\n",
      "only showing top 20 rows\n",
      "\n"
     ]
    }
   ],
   "source": [
    "window_spec = Window.partitionBy(\"student_id\", \"course_id\").orderBy(reviews_df[\"review_date\"].desc())\n",
    "\n",
    "window_df = reviews_df.withColumn(\n",
    "    \"rnk\",\n",
    "    F.row_number().over(window_spec)\n",
    ")\n",
    "\n",
    "filtered_df = window_df.filter(\n",
    "    F.col(\"rnk\") == 1\n",
    ").select(\n",
    "    \"student_id\",\n",
    "    \"course_id\",\n",
    "    \"rating\",\n",
    "    \"review_date\"\n",
    ")\n",
    "\n",
    "filtered_df.show()"
   ]
  },
  {
   "cell_type": "markdown",
   "id": "ec6782b5",
   "metadata": {},
   "source": [
    "### Find students who have given a 5-star rating to more than one course."
   ]
  },
  {
   "cell_type": "code",
   "execution_count": 28,
   "id": "2e1665ce",
   "metadata": {},
   "outputs": [
    {
     "name": "stdout",
     "output_type": "stream",
     "text": [
      "+----------+---------------+\n",
      "|student_id|five_star_count|\n",
      "+----------+---------------+\n",
      "|        26|              2|\n",
      "|        23|              2|\n",
      "+----------+---------------+\n",
      "\n"
     ]
    }
   ],
   "source": [
    "spark.sql(\n",
    "    \"\"\"\n",
    "    with cte as (\n",
    "        SELECT\n",
    "            student_id,\n",
    "            rating\n",
    "        FROM reviews\n",
    "    )\n",
    "    \n",
    "    SELECT\n",
    "        student_id,\n",
    "        COUNT(*) as five_star_count\n",
    "    FROM cte\n",
    "    WHERE rating = 5\n",
    "    GROUP BY 1\n",
    "    HAVING COUNT(*) > 1\n",
    "    \"\"\"\n",
    ").show()"
   ]
  },
  {
   "cell_type": "code",
   "execution_count": 29,
   "id": "5965880b",
   "metadata": {},
   "outputs": [
    {
     "name": "stdout",
     "output_type": "stream",
     "text": [
      "+----------+---------------+\n",
      "|student_id|five_star_count|\n",
      "+----------+---------------+\n",
      "|        26|              2|\n",
      "|        23|              2|\n",
      "+----------+---------------+\n",
      "\n"
     ]
    }
   ],
   "source": [
    "filtered_df = reviews_df.filter(\n",
    "    F.col(\"rating\") == 5\n",
    ")\n",
    "\n",
    "filtered_df.groupBy(\"student_id\") \\\n",
    "    .agg(F.count(\"*\").alias(\"five_star_count\")) \\\n",
    "    .filter(F.col(\"five_star_count\") > 1) \\\n",
    "    .show()\n"
   ]
  },
  {
   "cell_type": "markdown",
   "id": "10450af9",
   "metadata": {},
   "source": [
    "### Calculate the rolling average rating over the last 3 reviews for each course."
   ]
  },
  {
   "cell_type": "code",
   "execution_count": 30,
   "id": "ea2ff303",
   "metadata": {},
   "outputs": [
    {
     "name": "stdout",
     "output_type": "stream",
     "text": [
      "+---------+-----------+------+------------------+\n",
      "|course_id|review_date|rating|       rolling_avg|\n",
      "+---------+-----------+------+------------------+\n",
      "|        1| 2023-09-17|     2|               2.0|\n",
      "|        1| 2023-10-03|     4|               3.0|\n",
      "|        1| 2023-10-18|     3|               3.0|\n",
      "|        1| 2023-11-02|     4|3.6666666666666665|\n",
      "|        1| 2024-02-27|     1|2.6666666666666665|\n",
      "|        1| 2024-12-14|     3|2.6666666666666665|\n",
      "|        1| 2025-02-22|     4|2.6666666666666665|\n",
      "|        1| 2025-04-01|     1|2.6666666666666665|\n",
      "|        2| 2023-08-12|     5|               5.0|\n",
      "|        2| 2023-12-27|     4|               4.5|\n",
      "|        2| 2024-03-08|     5| 4.666666666666667|\n",
      "|        2| 2025-03-11|     1|3.3333333333333335|\n",
      "|        4| 2023-08-16|     4|               4.0|\n",
      "|        4| 2023-11-16|     3|               3.5|\n",
      "|        4| 2024-04-14|     4|3.6666666666666665|\n",
      "|        4| 2024-05-09|     4|3.6666666666666665|\n",
      "|        4| 2024-08-25|     2|3.3333333333333335|\n",
      "|        4| 2024-11-05|     2|2.6666666666666665|\n",
      "|        4| 2024-11-25|     1|1.6666666666666667|\n",
      "|        4| 2024-12-06|     4|2.3333333333333335|\n",
      "+---------+-----------+------+------------------+\n",
      "only showing top 20 rows\n",
      "\n"
     ]
    }
   ],
   "source": [
    "spark.sql(\n",
    "    \"\"\"\n",
    "    SELECT\n",
    "        course_id,\n",
    "        review_date,\n",
    "        rating,\n",
    "        AVG(rating) OVER (PARTITION BY course_id ORDER BY review_date ROWS BETWEEN 2 PRECEDING AND CURRENT ROW) as rolling_avg\n",
    "    FROM reviews\n",
    "    \"\"\"\n",
    ").show()"
   ]
  },
  {
   "cell_type": "code",
   "execution_count": 31,
   "id": "6eed44bb",
   "metadata": {},
   "outputs": [
    {
     "name": "stdout",
     "output_type": "stream",
     "text": [
      "+---------+-----------+------+------------------+\n",
      "|course_id|review_date|rating|       rolling_avg|\n",
      "+---------+-----------+------+------------------+\n",
      "|        1| 2023-09-17|     2|               2.0|\n",
      "|        1| 2023-10-03|     4|               3.0|\n",
      "|        1| 2023-10-18|     3|               3.0|\n",
      "|        1| 2023-11-02|     4|3.6666666666666665|\n",
      "|        1| 2024-02-27|     1|2.6666666666666665|\n",
      "|        1| 2024-12-14|     3|2.6666666666666665|\n",
      "|        1| 2025-02-22|     4|2.6666666666666665|\n",
      "|        1| 2025-04-01|     1|2.6666666666666665|\n",
      "|        2| 2023-08-12|     5|               5.0|\n",
      "|        2| 2023-12-27|     4|               4.5|\n",
      "|        2| 2024-03-08|     5| 4.666666666666667|\n",
      "|        2| 2025-03-11|     1|3.3333333333333335|\n",
      "|        4| 2023-08-16|     4|               4.0|\n",
      "|        4| 2023-11-16|     3|               3.5|\n",
      "|        4| 2024-04-14|     4|3.6666666666666665|\n",
      "|        4| 2024-05-09|     4|3.6666666666666665|\n",
      "|        4| 2024-08-25|     2|3.3333333333333335|\n",
      "|        4| 2024-11-05|     2|2.6666666666666665|\n",
      "|        4| 2024-11-25|     1|1.6666666666666667|\n",
      "|        4| 2024-12-06|     4|2.3333333333333335|\n",
      "+---------+-----------+------+------------------+\n",
      "only showing top 20 rows\n",
      "\n"
     ]
    }
   ],
   "source": [
    "window_spec = Window.partitionBy(\"course_id\").orderBy(\"review_date\").rowsBetween(-2, 0)\n",
    "\n",
    "rolling_avg_df = reviews_df.withColumn(\n",
    "    \"rolling_avg\",\n",
    "    F.avg(\"rating\").over(window_spec)\n",
    ")\n",
    "\n",
    "rolling_avg_df.select(\n",
    "    \"course_id\",\n",
    "    \"review_date\",\n",
    "    \"rating\",\n",
    "    \"rolling_avg\"\n",
    ").show()"
   ]
  },
  {
   "cell_type": "markdown",
   "id": "9b6021b7",
   "metadata": {},
   "source": [
    "### Find the most reviewed course and list all students who reviewed it."
   ]
  },
  {
   "cell_type": "code",
   "execution_count": 32,
   "id": "382bd292",
   "metadata": {},
   "outputs": [
    {
     "name": "stdout",
     "output_type": "stream",
     "text": [
      "+---------+--------------------+----------+----------------+\n",
      "|course_id|        course_title|student_id|    student_name|\n",
      "+---------+--------------------+----------+----------------+\n",
      "|        4|Switchable neutra...|         1| Michael Sweeney|\n",
      "|        4|Switchable neutra...|         6|     Denise Diaz|\n",
      "|        4|Switchable neutra...|         9|      James King|\n",
      "|        4|Switchable neutra...|        17|    Mary Wheeler|\n",
      "|        4|Switchable neutra...|        18|   Judith Church|\n",
      "|        4|Switchable neutra...|        18|   Judith Church|\n",
      "|        4|Switchable neutra...|        31|      Sarah Sims|\n",
      "|        4|Switchable neutra...|        45|     Keith Perez|\n",
      "|        4|Switchable neutra...|        49|Caroline Preston|\n",
      "+---------+--------------------+----------+----------------+\n",
      "\n"
     ]
    }
   ],
   "source": [
    "spark.sql(\n",
    "    \"\"\"\n",
    "    with review_counts as (\n",
    "        SELECT\n",
    "            course_id,\n",
    "            COUNT(*) as review_count\n",
    "        FROM reviews\n",
    "        GROUP BY 1\n",
    "    ),\n",
    "    top_course as (\n",
    "        SELECT\n",
    "            course_id\n",
    "        FROM review_counts\n",
    "        ORDER BY review_count DESC\n",
    "        LIMIT 1\n",
    "    )\n",
    "\n",
    "    SELECT\n",
    "        r.course_id,\n",
    "        c.course_title,\n",
    "        r.student_id,\n",
    "        s.student_name\n",
    "    FROM reviews r\n",
    "    JOIN top_course t\n",
    "    USING (course_id)\n",
    "    JOIN courses c\n",
    "    USING (course_id)\n",
    "    JOIN students s\n",
    "    USING (student_id)\n",
    "    ORDER BY r.student_id\n",
    "    \"\"\"\n",
    ").show()\n"
   ]
  },
  {
   "cell_type": "code",
   "execution_count": 33,
   "id": "361b2ea5",
   "metadata": {},
   "outputs": [
    {
     "name": "stdout",
     "output_type": "stream",
     "text": [
      "+---------+--------------------+----------+----------------+\n",
      "|course_id|        course_title|student_id|    student_name|\n",
      "+---------+--------------------+----------+----------------+\n",
      "|        4|Switchable neutra...|         1| Michael Sweeney|\n",
      "|        4|Switchable neutra...|         6|     Denise Diaz|\n",
      "|        4|Switchable neutra...|         9|      James King|\n",
      "|        4|Switchable neutra...|        17|    Mary Wheeler|\n",
      "|        4|Switchable neutra...|        18|   Judith Church|\n",
      "|        4|Switchable neutra...|        18|   Judith Church|\n",
      "|        4|Switchable neutra...|        31|      Sarah Sims|\n",
      "|        4|Switchable neutra...|        45|     Keith Perez|\n",
      "|        4|Switchable neutra...|        49|Caroline Preston|\n",
      "+---------+--------------------+----------+----------------+\n",
      "\n"
     ]
    }
   ],
   "source": [
    "group_df = reviews_df.groupBy(\"course_id\") \\\n",
    "    .agg(F.count(\"*\").alias(\"review_count\"))\n",
    "\n",
    "top_course_df = group_df.orderBy(F.col(\"review_count\").desc()).limit(1)\n",
    "\n",
    "joined = reviews_df.join(\n",
    "    top_course_df,\n",
    "    on=\"course_id\",\n",
    "    how=\"inner\"\n",
    ").join(\n",
    "    courses_df,\n",
    "    on=\"course_id\",\n",
    "    how=\"inner\"\n",
    ").join(\n",
    "    students_df,\n",
    "    on=\"student_id\",\n",
    "    how=\"inner\"\n",
    ")\n",
    "\n",
    "joined.select(\n",
    "    \"course_id\",\n",
    "    \"course_title\",\n",
    "    \"student_id\",\n",
    "    \"student_name\"\n",
    ").orderBy(\"student_id\") \\\n",
    "    .show()"
   ]
  },
  {
   "cell_type": "markdown",
   "id": "bb0bed25",
   "metadata": {},
   "source": [
    "### For each instructor, calculate the average progress of students across all their courses."
   ]
  },
  {
   "cell_type": "code",
   "execution_count": 34,
   "id": "2cebeb04",
   "metadata": {},
   "outputs": [
    {
     "name": "stdout",
     "output_type": "stream",
     "text": [
      "root\n",
      " |-- course_id: integer (nullable = true)\n",
      " |-- course_title: string (nullable = true)\n",
      " |-- category: string (nullable = true)\n",
      " |-- price: integer (nullable = true)\n",
      " |-- instructor_id: integer (nullable = true)\n",
      "\n"
     ]
    }
   ],
   "source": [
    "courses_df.printSchema()"
   ]
  },
  {
   "cell_type": "code",
   "execution_count": 35,
   "id": "5823cbc7",
   "metadata": {},
   "outputs": [
    {
     "name": "stdout",
     "output_type": "stream",
     "text": [
      "root\n",
      " |-- enrollment_id: integer (nullable = true)\n",
      " |-- student_id: integer (nullable = true)\n",
      " |-- course_id: integer (nullable = true)\n",
      " |-- enrollment_date: date (nullable = true)\n",
      " |-- progress_percent: integer (nullable = true)\n",
      "\n"
     ]
    }
   ],
   "source": [
    "enrollments_df.printSchema()"
   ]
  },
  {
   "cell_type": "code",
   "execution_count": 36,
   "id": "b32d3a98",
   "metadata": {},
   "outputs": [
    {
     "name": "stdout",
     "output_type": "stream",
     "text": [
      "root\n",
      " |-- instructor_id: integer (nullable = true)\n",
      " |-- instructor_name: string (nullable = true)\n",
      " |-- specialization: string (nullable = true)\n",
      " |-- years_of_experience: integer (nullable = true)\n",
      "\n"
     ]
    }
   ],
   "source": [
    "instructors_df.printSchema()"
   ]
  },
  {
   "cell_type": "code",
   "execution_count": 37,
   "id": "02d35284",
   "metadata": {},
   "outputs": [
    {
     "name": "stdout",
     "output_type": "stream",
     "text": [
      "+-------------+---------------+--------------------+\n",
      "|instructor_id|instructor_name|avg_student_progress|\n",
      "+-------------+---------------+--------------------+\n",
      "|            5|   Carmen Mcgee|               59.83|\n",
      "|            7|   Shane Wilcox|                57.0|\n",
      "|            4|    Mary Kelley|               56.29|\n",
      "|            8| Matthew Orozco|               55.09|\n",
      "|            2|     Erica Hill|               51.94|\n",
      "|            3| Samantha Price|               50.33|\n",
      "|            1|  Angela Martin|               47.88|\n",
      "|           10|    Adam Barton|               46.44|\n",
      "|            9|  Jean Williams|                45.0|\n",
      "+-------------+---------------+--------------------+\n",
      "\n"
     ]
    }
   ],
   "source": [
    "spark.sql(\n",
    "    \"\"\"\n",
    "    SELECT\n",
    "        c.instructor_id,\n",
    "        i.instructor_name,\n",
    "        ROUND(AVG(e.progress_percent), 2) AS avg_student_progress\n",
    "    FROM enrollments e\n",
    "    JOIN courses c\n",
    "    ON e.course_id = c.course_id\n",
    "    JOIN instructors i\n",
    "    ON c.instructor_id = i.instructor_id\n",
    "    GROUP BY c.instructor_id, i.instructor_name\n",
    "    ORDER BY avg_student_progress DESC, c.instructor_id\n",
    "    \"\"\"\n",
    ").show()"
   ]
  },
  {
   "cell_type": "code",
   "execution_count": 38,
   "id": "1ad24e26",
   "metadata": {},
   "outputs": [
    {
     "name": "stdout",
     "output_type": "stream",
     "text": [
      "+-------------+---------------+--------------------+\n",
      "|instructor_id|instructor_name|avg_student_progress|\n",
      "+-------------+---------------+--------------------+\n",
      "|            5|   Carmen Mcgee|               59.83|\n",
      "|            7|   Shane Wilcox|                57.0|\n",
      "|            4|    Mary Kelley|               56.29|\n",
      "|            8| Matthew Orozco|               55.09|\n",
      "|            2|     Erica Hill|               51.94|\n",
      "|            3| Samantha Price|               50.33|\n",
      "|            1|  Angela Martin|               47.88|\n",
      "|           10|    Adam Barton|               46.44|\n",
      "|            9|  Jean Williams|                45.0|\n",
      "+-------------+---------------+--------------------+\n",
      "\n"
     ]
    }
   ],
   "source": [
    "joined_df = enrollments_df.join(\n",
    "    courses_df,\n",
    "    on=\"course_id\",\n",
    "    how=\"inner\"\n",
    ").join(\n",
    "    instructors_df,\n",
    "    on=\"instructor_id\",\n",
    "    how=\"inner\"\n",
    ")\n",
    "\n",
    "joined_df.groupBy(\"instructor_id\", \"instructor_name\") \\\n",
    "    .agg(F.round(F.avg(\"progress_percent\"), 2).alias(\"avg_student_progress\")) \\\n",
    "    .orderBy(F.col(\"avg_student_progress\").desc(), \"instructor_id\") \\\n",
    "    .show()"
   ]
  },
  {
   "cell_type": "markdown",
   "id": "bdde86ae",
   "metadata": {},
   "source": [
    "### For each course, compare the number of enrolled students vs number of reviewers."
   ]
  },
  {
   "cell_type": "code",
   "execution_count": 39,
   "id": "5f558325",
   "metadata": {},
   "outputs": [
    {
     "name": "stdout",
     "output_type": "stream",
     "text": [
      "root\n",
      " |-- review_id: integer (nullable = true)\n",
      " |-- student_id: integer (nullable = true)\n",
      " |-- course_id: integer (nullable = true)\n",
      " |-- rating: integer (nullable = true)\n",
      " |-- review_date: date (nullable = true)\n",
      " |-- comment: string (nullable = true)\n",
      "\n"
     ]
    }
   ],
   "source": [
    "reviews_df.printSchema()"
   ]
  },
  {
   "cell_type": "code",
   "execution_count": 40,
   "id": "1020251e",
   "metadata": {},
   "outputs": [
    {
     "name": "stdout",
     "output_type": "stream",
     "text": [
      "+---------+-----------+---------+----------+\n",
      "|course_id|enrollments|reviewers|difference|\n",
      "+---------+-----------+---------+----------+\n",
      "|        1|          6|        8|        -2|\n",
      "|        2|          4|        4|         0|\n",
      "|        3|          3|     NULL|         3|\n",
      "|        4|          6|        9|        -3|\n",
      "|        5|          3|        3|         0|\n",
      "|        6|          7|        6|         1|\n",
      "|        7|          8|        4|         4|\n",
      "|        8|          6|        3|         3|\n",
      "|        9|          1|        5|        -4|\n",
      "|       10|          4|        3|         1|\n",
      "|       11|          3|        3|         0|\n",
      "|       12|          5|        5|         0|\n",
      "|       13|          5|        3|         2|\n",
      "|       14|          4|        4|         0|\n",
      "|       15|          5|        3|         2|\n",
      "|       16|          3|        5|        -2|\n",
      "|       17|          6|        1|         5|\n",
      "|       18|          7|        4|         3|\n",
      "|       19|          6|        2|         4|\n",
      "|       20|          4|        5|        -1|\n",
      "+---------+-----------+---------+----------+\n",
      "\n"
     ]
    }
   ],
   "source": [
    "spark.sql(\n",
    "    \"\"\"\n",
    "    with enrollment_cte as (\n",
    "        SELECT\n",
    "            course_id,\n",
    "            COUNT(DISTINCT student_id) as enrollments\n",
    "        FROM enrollments\n",
    "        GROUP BY 1\n",
    "    ),\n",
    "    reviewer_cte as(\n",
    "        SELECT\n",
    "            course_id,\n",
    "            COUNT(distinct review_id) as reviewers\n",
    "        FROM reviews\n",
    "        GROUP BY 1\n",
    "    )\n",
    "    \n",
    "    SELECT\n",
    "        c.course_id,\n",
    "        ec.enrollments,\n",
    "        rc.reviewers,\n",
    "        COALESCE(ec.enrollments, 0) - COALESCE(rc.reviewers, 0) AS difference\n",
    "    FROM courses c\n",
    "    LEFT JOIN enrollment_cte ec\n",
    "    USING (course_id)\n",
    "    LEFT JOIN reviewer_cte rc\n",
    "    USING (course_id)\n",
    "    \n",
    "    \"\"\"\n",
    ").show()"
   ]
  },
  {
   "cell_type": "code",
   "execution_count": 41,
   "id": "89e9b512",
   "metadata": {},
   "outputs": [
    {
     "name": "stdout",
     "output_type": "stream",
     "text": [
      "+---------+-----------+---------+----------+\n",
      "|course_id|enrollments|reviewers|difference|\n",
      "+---------+-----------+---------+----------+\n",
      "|        1|          6|        8|        -2|\n",
      "|        2|          4|        4|         0|\n",
      "|        3|          3|        0|         3|\n",
      "|        4|          6|        9|        -3|\n",
      "|        5|          3|        3|         0|\n",
      "|        6|          7|        6|         1|\n",
      "|        7|          8|        4|         4|\n",
      "|        8|          6|        3|         3|\n",
      "|        9|          1|        5|        -4|\n",
      "|       10|          4|        3|         1|\n",
      "|       11|          3|        3|         0|\n",
      "|       12|          5|        5|         0|\n",
      "|       13|          5|        3|         2|\n",
      "|       14|          4|        4|         0|\n",
      "|       15|          5|        3|         2|\n",
      "|       16|          3|        5|        -2|\n",
      "|       17|          6|        1|         5|\n",
      "|       18|          7|        4|         3|\n",
      "|       19|          6|        2|         4|\n",
      "|       20|          4|        5|        -1|\n",
      "+---------+-----------+---------+----------+\n",
      "\n"
     ]
    }
   ],
   "source": [
    "enrollments_cte = enrollments_df.groupBy(\"course_id\") \\\n",
    "    .agg(F.countDistinct(F.col(\"student_id\")).alias(\"enrollments\")) \\\n",
    "\n",
    "reviewers_cte = reviews_df.groupBy(\"course_id\") \\\n",
    "    .agg(F.countDistinct(F.col(\"review_id\")).alias(\"reviewers\")) \\\n",
    "\n",
    "joined_df = courses_df.join(\n",
    "    enrollments_cte,\n",
    "    on = \"course_id\",\n",
    "    how = \"left\"\n",
    ").join(\n",
    "    reviewers_cte,\n",
    "    on = \"course_id\",\n",
    "    how = \"left\"\n",
    ")\n",
    "\n",
    "joined_df.withColumn(\n",
    "    \"difference\",\n",
    "    F.coalesce(F.col(\"enrollments\"), F.lit(0)) - F.coalesce(F.col(\"reviewers\"), F.lit(0))\n",
    ").select(\n",
    "    \"course_id\",\n",
    "    F.coalesce(F.col(\"enrollments\"), F.lit(0)).alias(\"enrollments\"),\n",
    "    F.coalesce(F.col(\"reviewers\"), F.lit(0)).alias(\"reviewers\"),\n",
    "    \"difference\"\n",
    ").show()"
   ]
  },
  {
   "cell_type": "markdown",
   "id": "40b5684d",
   "metadata": {},
   "source": [
    "### List all students who enrolled but never left a review for any course."
   ]
  },
  {
   "cell_type": "code",
   "execution_count": 45,
   "id": "afa3497c",
   "metadata": {},
   "outputs": [
    {
     "name": "stdout",
     "output_type": "stream",
     "text": [
      "+----------+------------------+\n",
      "|student_id|      student_name|\n",
      "+----------+------------------+\n",
      "|         7|  Matthew Young MD|\n",
      "|        29|    Peter Williams|\n",
      "|        11|     Patricia Kirk|\n",
      "|        42|     Steven Hughes|\n",
      "|         3|     Denise George|\n",
      "|        10|     Melissa Moody|\n",
      "|        21|     Lisa Caldwell|\n",
      "|        33|Jennifer Hernandez|\n",
      "|        15|     Brian Morales|\n",
      "|         5|       John Hughes|\n",
      "|        34|     Janice Martin|\n",
      "|        43|      Maxwell Ward|\n",
      "+----------+------------------+\n",
      "\n"
     ]
    }
   ],
   "source": [
    "spark.sql(\n",
    "    \"\"\"\n",
    "    SELECT DISTINCT\n",
    "        s.student_id,\n",
    "        s.student_name\n",
    "    FROM students s\n",
    "    JOIN enrollments e\n",
    "    ON s.student_id = e.student_id\n",
    "    LEFT JOIN reviews r\n",
    "    ON s.student_id = r.student_id\n",
    "    WHERE r.review_id IS NULL\n",
    "    \"\"\"\n",
    ").show()"
   ]
  },
  {
   "cell_type": "code",
   "execution_count": 48,
   "id": "63f6ce56",
   "metadata": {},
   "outputs": [
    {
     "name": "stdout",
     "output_type": "stream",
     "text": [
      "+----------+------------------+\n",
      "|student_id|      student_name|\n",
      "+----------+------------------+\n",
      "|         7|  Matthew Young MD|\n",
      "|        29|    Peter Williams|\n",
      "|        11|     Patricia Kirk|\n",
      "|        42|     Steven Hughes|\n",
      "|         3|     Denise George|\n",
      "|        10|     Melissa Moody|\n",
      "|        21|     Lisa Caldwell|\n",
      "|        33|Jennifer Hernandez|\n",
      "|        15|     Brian Morales|\n",
      "|         5|       John Hughes|\n",
      "|        34|     Janice Martin|\n",
      "|        43|      Maxwell Ward|\n",
      "+----------+------------------+\n",
      "\n"
     ]
    }
   ],
   "source": [
    "students_df.join(\n",
    "    enrollments_df,\n",
    "    on = \"student_id\",\n",
    "    how = \"inner\"\n",
    ").join(\n",
    "    reviews_df,\n",
    "    on = \"student_id\",\n",
    "    how = \"left\"\n",
    ").filter(\n",
    "    F.col(\"review_id\").isNull()\n",
    ").select(\n",
    "    \"student_id\",\n",
    "    \"student_name\"\n",
    ").distinct().show()"
   ]
  },
  {
   "cell_type": "code",
   "execution_count": null,
   "id": "4af299d9",
   "metadata": {},
   "outputs": [],
   "source": []
  }
 ],
 "metadata": {
  "kernelspec": {
   "display_name": "venv",
   "language": "python",
   "name": "python3"
  },
  "language_info": {
   "codemirror_mode": {
    "name": "ipython",
    "version": 3
   },
   "file_extension": ".py",
   "mimetype": "text/x-python",
   "name": "python",
   "nbconvert_exporter": "python",
   "pygments_lexer": "ipython3",
   "version": "3.9.6"
  }
 },
 "nbformat": 4,
 "nbformat_minor": 5
}
